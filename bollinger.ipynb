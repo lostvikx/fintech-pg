{
 "cells": [
  {
   "cell_type": "code",
   "execution_count": 1,
   "source": [
    "from pandas_datareader import data\n",
    "import matplotlib.pyplot as plt\n",
    "import datetime\n",
    "import pandas as pd"
   ],
   "outputs": [],
   "metadata": {}
  },
  {
   "cell_type": "code",
   "execution_count": 2,
   "source": [
    "start_date = datetime.datetime(2017, 1, 1)\n",
    "end_date = datetime.datetime(2021, 12, 31)\n",
    "\n",
    "amd = data.DataReader(\"AMD\", start=start_date, end=end_date, data_source=\"yahoo\")\n",
    "\n",
    "amd.head()"
   ],
   "outputs": [
    {
     "output_type": "execute_result",
     "data": {
      "text/html": [
       "<div>\n",
       "<style scoped>\n",
       "    .dataframe tbody tr th:only-of-type {\n",
       "        vertical-align: middle;\n",
       "    }\n",
       "\n",
       "    .dataframe tbody tr th {\n",
       "        vertical-align: top;\n",
       "    }\n",
       "\n",
       "    .dataframe thead th {\n",
       "        text-align: right;\n",
       "    }\n",
       "</style>\n",
       "<table border=\"1\" class=\"dataframe\">\n",
       "  <thead>\n",
       "    <tr style=\"text-align: right;\">\n",
       "      <th></th>\n",
       "      <th>High</th>\n",
       "      <th>Low</th>\n",
       "      <th>Open</th>\n",
       "      <th>Close</th>\n",
       "      <th>Volume</th>\n",
       "      <th>Adj Close</th>\n",
       "    </tr>\n",
       "    <tr>\n",
       "      <th>Date</th>\n",
       "      <th></th>\n",
       "      <th></th>\n",
       "      <th></th>\n",
       "      <th></th>\n",
       "      <th></th>\n",
       "      <th></th>\n",
       "    </tr>\n",
       "  </thead>\n",
       "  <tbody>\n",
       "    <tr>\n",
       "      <th>2017-01-03</th>\n",
       "      <td>11.65</td>\n",
       "      <td>11.02</td>\n",
       "      <td>11.42</td>\n",
       "      <td>11.43</td>\n",
       "      <td>55182000</td>\n",
       "      <td>11.43</td>\n",
       "    </tr>\n",
       "    <tr>\n",
       "      <th>2017-01-04</th>\n",
       "      <td>11.52</td>\n",
       "      <td>11.24</td>\n",
       "      <td>11.45</td>\n",
       "      <td>11.43</td>\n",
       "      <td>40781200</td>\n",
       "      <td>11.43</td>\n",
       "    </tr>\n",
       "    <tr>\n",
       "      <th>2017-01-05</th>\n",
       "      <td>11.69</td>\n",
       "      <td>11.23</td>\n",
       "      <td>11.43</td>\n",
       "      <td>11.24</td>\n",
       "      <td>38855200</td>\n",
       "      <td>11.24</td>\n",
       "    </tr>\n",
       "    <tr>\n",
       "      <th>2017-01-06</th>\n",
       "      <td>11.49</td>\n",
       "      <td>11.11</td>\n",
       "      <td>11.29</td>\n",
       "      <td>11.32</td>\n",
       "      <td>34453500</td>\n",
       "      <td>11.32</td>\n",
       "    </tr>\n",
       "    <tr>\n",
       "      <th>2017-01-09</th>\n",
       "      <td>11.64</td>\n",
       "      <td>11.31</td>\n",
       "      <td>11.37</td>\n",
       "      <td>11.49</td>\n",
       "      <td>37304800</td>\n",
       "      <td>11.49</td>\n",
       "    </tr>\n",
       "  </tbody>\n",
       "</table>\n",
       "</div>"
      ],
      "text/plain": [
       "             High    Low   Open  Close    Volume  Adj Close\n",
       "Date                                                       \n",
       "2017-01-03  11.65  11.02  11.42  11.43  55182000      11.43\n",
       "2017-01-04  11.52  11.24  11.45  11.43  40781200      11.43\n",
       "2017-01-05  11.69  11.23  11.43  11.24  38855200      11.24\n",
       "2017-01-06  11.49  11.11  11.29  11.32  34453500      11.32\n",
       "2017-01-09  11.64  11.31  11.37  11.49  37304800      11.49"
      ]
     },
     "metadata": {},
     "execution_count": 2
    }
   ],
   "metadata": {}
  },
  {
   "cell_type": "code",
   "execution_count": 5,
   "source": [
    "# trading days in a month = 20 {5 days, 4 weeks}\n",
    "window = 20\n",
    "no_of_std = 2\n",
    "\n",
    "df = pd.concat([amd[\"Adj Close\"]], axis=1)\n",
    "\n",
    "rolling_mean = df[\"Adj Close\"].rolling(window).mean()\n",
    "rolling_std = df[\"Adj Close\"].rolling(window).std()\n",
    "\n",
    "df[\"Mid\"] = rolling_mean\n",
    "df[\"Bollinger High\"] = rolling_mean + (rolling_std * no_of_std)\n",
    "df[\"Bollinger Low\"] = rolling_mean - (rolling_std * no_of_std)\n",
    "\n",
    "df.tail()\n",
    "\n",
    "df[[\"Adj Close\", \"Bollinger High\", \"Bollinger Low\"]].plot()"
   ],
   "outputs": [
    {
     "output_type": "execute_result",
     "data": {
      "text/plain": [
       "<AxesSubplot:xlabel='Date'>"
      ]
     },
     "metadata": {},
     "execution_count": 5
    },
    {
     "output_type": "display_data",
     "data": {
      "image/png": "[encoded data removed]",
      "text/plain": [
       "<Figure size 432x288 with 1 Axes>"
      ]
     },
     "metadata": {
      "needs_background": "light"
     }
    }
   ],
   "metadata": {}
  }
 ],
 "metadata": {
  "orig_nbformat": 4,
  "language_info": {
   "name": "python",
   "version": "3.9.7",
   "mimetype": "text/x-python",
   "codemirror_mode": {
    "name": "ipython",
    "version": 3
   },
   "pygments_lexer": "ipython3",
   "nbconvert_exporter": "python",
   "file_extension": ".py"
  },
  "kernelspec": {
   "name": "python3",
   "display_name": "Python 3.9.7 64-bit"
  },
  "interpreter": {
   "hash": "916dbcbb3f70747c44a77c7bcd40155683ae19c65e1c03b4aa3499c5328201f1"
  }
 },
 "nbformat": 4,
 "nbformat_minor": 2
}