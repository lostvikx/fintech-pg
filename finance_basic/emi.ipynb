{
 "cells": [
  {
   "cell_type": "code",
   "execution_count": null,
   "source": [
    "import numpy as np\n",
    "import pandas as pd\n",
    "import numpy_financial as npf\n",
    "import datetime\n"
   ],
   "outputs": [],
   "metadata": {}
  },
  {
   "cell_type": "code",
   "execution_count": null,
   "source": [
    "Interest_Rate = 0.04\n",
    "Years = 30\n",
    "Payments_Year = 12 # monthly payments\n",
    "Principal = 200000\n",
    "start_date = datetime.datetime(2016, 1, 1)"
   ],
   "outputs": [],
   "metadata": {}
  },
  {
   "cell_type": "code",
   "execution_count": null,
   "source": [
    "# Payment against loan principal plus interest\n",
    "\n",
    "# As the payment is monthly the interest rate is divided and the years is multiply. The payment is done at the end of the month.\n",
    "\n",
    "# when=\"end\" is default\n",
    "monthly_payment = npf.pmt(Interest_Rate/Payments_Year, Years*Payments_Year, Principal, when=\"end\")\n",
    "print(monthly_payment)"
   ],
   "outputs": [],
   "metadata": {}
  },
  {
   "cell_type": "code",
   "execution_count": null,
   "source": [
    "total_payment = monthly_payment * 12 * Years\n",
    "total_payment"
   ],
   "outputs": [],
   "metadata": {}
  },
  {
   "cell_type": "code",
   "execution_count": null,
   "source": [
    "# Interest portion of a payment\n",
    "per = 1\n",
    "interest_payment = npf.ipmt(Interest_Rate/Payments_Year, per, Years*Payments_Year, Principal)\n",
    "\n",
    "interest_payment"
   ],
   "outputs": [],
   "metadata": {}
  },
  {
   "cell_type": "code",
   "execution_count": null,
   "source": [
    "principal_payment = npf.ppmt(Interest_Rate/Payments_Year, per, Years*Payments_Year, Principal)\n",
    "\n",
    "principal_payment"
   ],
   "outputs": [],
   "metadata": {}
  }
 ],
 "metadata": {
  "orig_nbformat": 4,
  "language_info": {
   "name": "python",
   "version": "3.9.7",
   "mimetype": "text/x-python",
   "codemirror_mode": {
    "name": "ipython",
    "version": 3
   },
   "pygments_lexer": "ipython3",
   "nbconvert_exporter": "python",
   "file_extension": ".py"
  },
  "kernelspec": {
   "name": "python3",
   "display_name": "Python 3.9.7 64-bit"
  },
  "interpreter": {
   "hash": "916dbcbb3f70747c44a77c7bcd40155683ae19c65e1c03b4aa3499c5328201f1"
  }
 },
 "nbformat": 4,
 "nbformat_minor": 2
}