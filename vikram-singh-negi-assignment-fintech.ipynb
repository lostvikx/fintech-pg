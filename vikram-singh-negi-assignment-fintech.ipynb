{
 "cells": [
  {
   "cell_type": "code",
   "execution_count": 1,
   "source": [
    "from pandas_datareader import data\n",
    "import matplotlib.pyplot as plt\n",
    "import calendar\n",
    "import pandas as pd\n",
    "import numpy as np\n",
    "\n",
    "# get data from the yahoo finance api\n",
    "apple = data.DataReader(\"AAPL\", start=\"2018-1-1\", end=\"2019-12-24\", data_source=\"yahoo\")\n",
    "\n",
    "tesla = data.DataReader(\"TSLA\", start=\"2018-1-1\", end=\"2019-12-24\", data_source=\"yahoo\")\n",
    "\n",
    "microsoft = data.DataReader(\"MSFT\", start=\"2018-1-1\", end=\"2019-12-24\", data_source=\"yahoo\")"
   ],
   "outputs": [],
   "metadata": {}
  },
  {
   "cell_type": "code",
   "execution_count": 2,
   "source": [
    "plt.plot(apple.index, apple[\"Adj Close\"])"
   ],
   "outputs": [
    {
     "output_type": "execute_result",
     "data": {
      "text/plain": [
       "[<matplotlib.lines.Line2D at 0x7fd3b7218190>]"
      ]
     },
     "metadata": {},
     "execution_count": 2
    },
    {
     "output_type": "display_data",
     "data": {
      "image/png": "[encoded data removed]",
      "text/plain": [
       "<Figure size 432x288 with 1 Axes>"
      ]
     },
     "metadata": {
      "needs_background": "light"
     }
    }
   ],
   "metadata": {}
  },
  {
   "cell_type": "code",
   "execution_count": 3,
   "source": [
    "apple.loc[\"2019-1-1\" : \"2019-12-24\"]"
   ],
   "outputs": [
    {
     "output_type": "execute_result",
     "data": {
      "text/html": [
       "<div>\n",
       "<style scoped>\n",
       "    .dataframe tbody tr th:only-of-type {\n",
       "        vertical-align: middle;\n",
       "    }\n",
       "\n",
       "    .dataframe tbody tr th {\n",
       "        vertical-align: top;\n",
       "    }\n",
       "\n",
       "    .dataframe thead th {\n",
       "        text-align: right;\n",
       "    }\n",
       "</style>\n",
       "<table border=\"1\" class=\"dataframe\">\n",
       "  <thead>\n",
       "    <tr style=\"text-align: right;\">\n",
       "      <th></th>\n",
       "      <th>High</th>\n",
       "      <th>Low</th>\n",
       "      <th>Open</th>\n",
       "      <th>Close</th>\n",
       "      <th>Volume</th>\n",
       "      <th>Adj Close</th>\n",
       "    </tr>\n",
       "    <tr>\n",
       "      <th>Date</th>\n",
       "      <th></th>\n",
       "      <th></th>\n",
       "      <th></th>\n",
       "      <th></th>\n",
       "      <th></th>\n",
       "      <th></th>\n",
       "    </tr>\n",
       "  </thead>\n",
       "  <tbody>\n",
       "    <tr>\n",
       "      <th>2019-01-02</th>\n",
       "      <td>39.712502</td>\n",
       "      <td>38.557499</td>\n",
       "      <td>38.722500</td>\n",
       "      <td>39.480000</td>\n",
       "      <td>148158800.0</td>\n",
       "      <td>38.277531</td>\n",
       "    </tr>\n",
       "    <tr>\n",
       "      <th>2019-01-03</th>\n",
       "      <td>36.430000</td>\n",
       "      <td>35.500000</td>\n",
       "      <td>35.994999</td>\n",
       "      <td>35.547501</td>\n",
       "      <td>365248800.0</td>\n",
       "      <td>34.464794</td>\n",
       "    </tr>\n",
       "    <tr>\n",
       "      <th>2019-01-04</th>\n",
       "      <td>37.137501</td>\n",
       "      <td>35.950001</td>\n",
       "      <td>36.132500</td>\n",
       "      <td>37.064999</td>\n",
       "      <td>234428400.0</td>\n",
       "      <td>35.936081</td>\n",
       "    </tr>\n",
       "    <tr>\n",
       "      <th>2019-01-07</th>\n",
       "      <td>37.207500</td>\n",
       "      <td>36.474998</td>\n",
       "      <td>37.174999</td>\n",
       "      <td>36.982498</td>\n",
       "      <td>219111200.0</td>\n",
       "      <td>35.856094</td>\n",
       "    </tr>\n",
       "    <tr>\n",
       "      <th>2019-01-08</th>\n",
       "      <td>37.955002</td>\n",
       "      <td>37.130001</td>\n",
       "      <td>37.389999</td>\n",
       "      <td>37.687500</td>\n",
       "      <td>164101200.0</td>\n",
       "      <td>36.539623</td>\n",
       "    </tr>\n",
       "    <tr>\n",
       "      <th>...</th>\n",
       "      <td>...</td>\n",
       "      <td>...</td>\n",
       "      <td>...</td>\n",
       "      <td>...</td>\n",
       "      <td>...</td>\n",
       "      <td>...</td>\n",
       "    </tr>\n",
       "    <tr>\n",
       "      <th>2019-12-18</th>\n",
       "      <td>70.474998</td>\n",
       "      <td>69.779999</td>\n",
       "      <td>69.949997</td>\n",
       "      <td>69.934998</td>\n",
       "      <td>116028400.0</td>\n",
       "      <td>68.823700</td>\n",
       "    </tr>\n",
       "    <tr>\n",
       "      <th>2019-12-19</th>\n",
       "      <td>70.294998</td>\n",
       "      <td>69.737503</td>\n",
       "      <td>69.875000</td>\n",
       "      <td>70.004997</td>\n",
       "      <td>98369200.0</td>\n",
       "      <td>68.892578</td>\n",
       "    </tr>\n",
       "    <tr>\n",
       "      <th>2019-12-20</th>\n",
       "      <td>70.662498</td>\n",
       "      <td>69.639999</td>\n",
       "      <td>70.557503</td>\n",
       "      <td>69.860001</td>\n",
       "      <td>275978000.0</td>\n",
       "      <td>68.749886</td>\n",
       "    </tr>\n",
       "    <tr>\n",
       "      <th>2019-12-23</th>\n",
       "      <td>71.062500</td>\n",
       "      <td>70.092499</td>\n",
       "      <td>70.132500</td>\n",
       "      <td>71.000000</td>\n",
       "      <td>98572000.0</td>\n",
       "      <td>69.871780</td>\n",
       "    </tr>\n",
       "    <tr>\n",
       "      <th>2019-12-24</th>\n",
       "      <td>71.222504</td>\n",
       "      <td>70.730003</td>\n",
       "      <td>71.172501</td>\n",
       "      <td>71.067497</td>\n",
       "      <td>48478800.0</td>\n",
       "      <td>69.938202</td>\n",
       "    </tr>\n",
       "  </tbody>\n",
       "</table>\n",
       "<p>248 rows × 6 columns</p>\n",
       "</div>"
      ],
      "text/plain": [
       "                 High        Low       Open      Close       Volume  Adj Close\n",
       "Date                                                                          \n",
       "2019-01-02  39.712502  38.557499  38.722500  39.480000  148158800.0  38.277531\n",
       "2019-01-03  36.430000  35.500000  35.994999  35.547501  365248800.0  34.464794\n",
       "2019-01-04  37.137501  35.950001  36.132500  37.064999  234428400.0  35.936081\n",
       "2019-01-07  37.207500  36.474998  37.174999  36.982498  219111200.0  35.856094\n",
       "2019-01-08  37.955002  37.130001  37.389999  37.687500  164101200.0  36.539623\n",
       "...               ...        ...        ...        ...          ...        ...\n",
       "2019-12-18  70.474998  69.779999  69.949997  69.934998  116028400.0  68.823700\n",
       "2019-12-19  70.294998  69.737503  69.875000  70.004997   98369200.0  68.892578\n",
       "2019-12-20  70.662498  69.639999  70.557503  69.860001  275978000.0  68.749886\n",
       "2019-12-23  71.062500  70.092499  70.132500  71.000000   98572000.0  69.871780\n",
       "2019-12-24  71.222504  70.730003  71.172501  71.067497   48478800.0  69.938202\n",
       "\n",
       "[248 rows x 6 columns]"
      ]
     },
     "metadata": {},
     "execution_count": 3
    }
   ],
   "metadata": {}
  },
  {
   "cell_type": "code",
   "execution_count": 4,
   "source": [
    "#Merge the dataframe with adj. closing price\n",
    "#compute returns for each day\n",
    "#Find average profitable days in a month\n",
    "#find correlation between the stock prices\n",
    "#Find the dates for the highs and the lows of each stock\n",
    "#Whats the net return for all stocks"
   ],
   "outputs": [],
   "metadata": {}
  },
  {
   "cell_type": "code",
   "execution_count": 5,
   "source": [
    "only19 = apple.index.year == 2019\n",
    "apple[only19]\n",
    "\n",
    "df = pd.concat([apple[\"Adj Close\"], tesla[\"Adj Close\"], microsoft[\"Adj Close\"]], axis=1)\n",
    "df.rename({0: \"Date\", 1: \"Apple\", 2: \"Tesla\", 3: \"Microsoft\"}, axis=\"columns\")\n",
    "\n",
    "df.columns = [\"Apple\", \"Tesla\", \"Microsoft\"]\n",
    "df.head()"
   ],
   "outputs": [
    {
     "output_type": "execute_result",
     "data": {
      "text/html": [
       "<div>\n",
       "<style scoped>\n",
       "    .dataframe tbody tr th:only-of-type {\n",
       "        vertical-align: middle;\n",
       "    }\n",
       "\n",
       "    .dataframe tbody tr th {\n",
       "        vertical-align: top;\n",
       "    }\n",
       "\n",
       "    .dataframe thead th {\n",
       "        text-align: right;\n",
       "    }\n",
       "</style>\n",
       "<table border=\"1\" class=\"dataframe\">\n",
       "  <thead>\n",
       "    <tr style=\"text-align: right;\">\n",
       "      <th></th>\n",
       "      <th>Apple</th>\n",
       "      <th>Tesla</th>\n",
       "      <th>Microsoft</th>\n",
       "    </tr>\n",
       "    <tr>\n",
       "      <th>Date</th>\n",
       "      <th></th>\n",
       "      <th></th>\n",
       "      <th></th>\n",
       "    </tr>\n",
       "  </thead>\n",
       "  <tbody>\n",
       "    <tr>\n",
       "      <th>2018-01-02</th>\n",
       "      <td>41.135746</td>\n",
       "      <td>64.106003</td>\n",
       "      <td>81.530228</td>\n",
       "    </tr>\n",
       "    <tr>\n",
       "      <th>2018-01-03</th>\n",
       "      <td>41.128597</td>\n",
       "      <td>63.450001</td>\n",
       "      <td>81.909653</td>\n",
       "    </tr>\n",
       "    <tr>\n",
       "      <th>2018-01-04</th>\n",
       "      <td>41.319633</td>\n",
       "      <td>62.924000</td>\n",
       "      <td>82.630577</td>\n",
       "    </tr>\n",
       "    <tr>\n",
       "      <th>2018-01-05</th>\n",
       "      <td>41.790070</td>\n",
       "      <td>63.316002</td>\n",
       "      <td>83.655045</td>\n",
       "    </tr>\n",
       "    <tr>\n",
       "      <th>2018-01-08</th>\n",
       "      <td>41.634853</td>\n",
       "      <td>67.281998</td>\n",
       "      <td>83.740417</td>\n",
       "    </tr>\n",
       "  </tbody>\n",
       "</table>\n",
       "</div>"
      ],
      "text/plain": [
       "                Apple      Tesla  Microsoft\n",
       "Date                                       \n",
       "2018-01-02  41.135746  64.106003  81.530228\n",
       "2018-01-03  41.128597  63.450001  81.909653\n",
       "2018-01-04  41.319633  62.924000  82.630577\n",
       "2018-01-05  41.790070  63.316002  83.655045\n",
       "2018-01-08  41.634853  67.281998  83.740417"
      ]
     },
     "metadata": {},
     "execution_count": 5
    }
   ],
   "metadata": {}
  },
  {
   "cell_type": "code",
   "execution_count": 6,
   "source": [
    "# Method 1\n",
    "# returns = df/df.shift(1) - 1\n",
    "\n",
    "# Method 2\n",
    "returns = df.pct_change()\n",
    "returns.iloc[0, :] = 0\n",
    "returns.columns = [\"AAPL_returns\", \"TSLA_returns\", \"MSFT_returns\"]\n",
    "returns.tail()\n"
   ],
   "outputs": [
    {
     "output_type": "execute_result",
     "data": {
      "text/html": [
       "<div>\n",
       "<style scoped>\n",
       "    .dataframe tbody tr th:only-of-type {\n",
       "        vertical-align: middle;\n",
       "    }\n",
       "\n",
       "    .dataframe tbody tr th {\n",
       "        vertical-align: top;\n",
       "    }\n",
       "\n",
       "    .dataframe thead th {\n",
       "        text-align: right;\n",
       "    }\n",
       "</style>\n",
       "<table border=\"1\" class=\"dataframe\">\n",
       "  <thead>\n",
       "    <tr style=\"text-align: right;\">\n",
       "      <th></th>\n",
       "      <th>AAPL_returns</th>\n",
       "      <th>TSLA_returns</th>\n",
       "      <th>MSFT_returns</th>\n",
       "    </tr>\n",
       "    <tr>\n",
       "      <th>Date</th>\n",
       "      <th></th>\n",
       "      <th></th>\n",
       "      <th></th>\n",
       "    </tr>\n",
       "  </thead>\n",
       "  <tbody>\n",
       "    <tr>\n",
       "      <th>2019-12-18</th>\n",
       "      <td>-0.002389</td>\n",
       "      <td>0.037362</td>\n",
       "      <td>-0.002069</td>\n",
       "    </tr>\n",
       "    <tr>\n",
       "      <th>2019-12-19</th>\n",
       "      <td>0.001001</td>\n",
       "      <td>0.027699</td>\n",
       "      <td>0.008680</td>\n",
       "    </tr>\n",
       "    <tr>\n",
       "      <th>2019-12-20</th>\n",
       "      <td>-0.002071</td>\n",
       "      <td>0.003836</td>\n",
       "      <td>0.010918</td>\n",
       "    </tr>\n",
       "    <tr>\n",
       "      <th>2019-12-23</th>\n",
       "      <td>0.016318</td>\n",
       "      <td>0.033605</td>\n",
       "      <td>0.000000</td>\n",
       "    </tr>\n",
       "    <tr>\n",
       "      <th>2019-12-24</th>\n",
       "      <td>0.000951</td>\n",
       "      <td>0.014384</td>\n",
       "      <td>-0.000190</td>\n",
       "    </tr>\n",
       "  </tbody>\n",
       "</table>\n",
       "</div>"
      ],
      "text/plain": [
       "            AAPL_returns  TSLA_returns  MSFT_returns\n",
       "Date                                                \n",
       "2019-12-18     -0.002389      0.037362     -0.002069\n",
       "2019-12-19      0.001001      0.027699      0.008680\n",
       "2019-12-20     -0.002071      0.003836      0.010918\n",
       "2019-12-23      0.016318      0.033605      0.000000\n",
       "2019-12-24      0.000951      0.014384     -0.000190"
      ]
     },
     "metadata": {},
     "execution_count": 6
    }
   ],
   "metadata": {}
  },
  {
   "cell_type": "code",
   "execution_count": 7,
   "source": [
    "#Find average profitable days in a month\n",
    "\n",
    "returns.head()\n",
    "# df.index\n",
    "# pd.DatetimeIndex(df.index).to_period(\"M\")\n",
    "\n",
    "monthly_gb = returns.groupby([returns.index.year, returns.index.month])\n",
    "\n",
    "# sum of all positive returns\n",
    "# sum_of_positive_returns = monthly_gb.aggregate([(\"Sum_Positive\", lambda x: x[x > 0].sum()), (\"Count\", lambda x: x[x>0].count())])\n",
    "\n",
    "# count of all days, where returns are positive\n",
    "profitable_days = monthly_gb.aggregate([(\"Profitable Days\", lambda x: x[x>0].count())])\n",
    "\n",
    "profitable_days.loc[\"Average profitable days in a month\"] = profitable_days.mean()\n",
    "round(profitable_days.iloc[-1])\n"
   ],
   "outputs": [
    {
     "output_type": "execute_result",
     "data": {
      "text/plain": [
       "AAPL_returns  Profitable Days    11.0\n",
       "TSLA_returns  Profitable Days    10.0\n",
       "MSFT_returns  Profitable Days    12.0\n",
       "Name: Average profitable days in a month, dtype: float64"
      ]
     },
     "metadata": {},
     "execution_count": 7
    }
   ],
   "metadata": {}
  },
  {
   "cell_type": "code",
   "execution_count": 8,
   "source": [
    "#find correlation between the stock prices\n",
    "\n",
    "returns.head()\n",
    "\n",
    "returns_corr = returns.corr(method=\"pearson\")\n",
    "returns_corr"
   ],
   "outputs": [
    {
     "output_type": "execute_result",
     "data": {
      "text/html": [
       "<div>\n",
       "<style scoped>\n",
       "    .dataframe tbody tr th:only-of-type {\n",
       "        vertical-align: middle;\n",
       "    }\n",
       "\n",
       "    .dataframe tbody tr th {\n",
       "        vertical-align: top;\n",
       "    }\n",
       "\n",
       "    .dataframe thead th {\n",
       "        text-align: right;\n",
       "    }\n",
       "</style>\n",
       "<table border=\"1\" class=\"dataframe\">\n",
       "  <thead>\n",
       "    <tr style=\"text-align: right;\">\n",
       "      <th></th>\n",
       "      <th>AAPL_returns</th>\n",
       "      <th>TSLA_returns</th>\n",
       "      <th>MSFT_returns</th>\n",
       "    </tr>\n",
       "  </thead>\n",
       "  <tbody>\n",
       "    <tr>\n",
       "      <th>AAPL_returns</th>\n",
       "      <td>1.000000</td>\n",
       "      <td>0.323234</td>\n",
       "      <td>0.663753</td>\n",
       "    </tr>\n",
       "    <tr>\n",
       "      <th>TSLA_returns</th>\n",
       "      <td>0.323234</td>\n",
       "      <td>1.000000</td>\n",
       "      <td>0.349160</td>\n",
       "    </tr>\n",
       "    <tr>\n",
       "      <th>MSFT_returns</th>\n",
       "      <td>0.663753</td>\n",
       "      <td>0.349160</td>\n",
       "      <td>1.000000</td>\n",
       "    </tr>\n",
       "  </tbody>\n",
       "</table>\n",
       "</div>"
      ],
      "text/plain": [
       "              AAPL_returns  TSLA_returns  MSFT_returns\n",
       "AAPL_returns      1.000000      0.323234      0.663753\n",
       "TSLA_returns      0.323234      1.000000      0.349160\n",
       "MSFT_returns      0.663753      0.349160      1.000000"
      ]
     },
     "metadata": {},
     "execution_count": 8
    }
   ],
   "metadata": {}
  },
  {
   "cell_type": "markdown",
   "source": [
    "From the above computation of Karl Pearson's correlation coefficient, returns from Microsoft stock is highly correlated with Apple stock. "
   ],
   "metadata": {}
  },
  {
   "cell_type": "code",
   "execution_count": 9,
   "source": [
    "stock_price_corr = df.corr(method=\"pearson\")\n",
    "stock_price_corr"
   ],
   "outputs": [
    {
     "output_type": "execute_result",
     "data": {
      "text/html": [
       "<div>\n",
       "<style scoped>\n",
       "    .dataframe tbody tr th:only-of-type {\n",
       "        vertical-align: middle;\n",
       "    }\n",
       "\n",
       "    .dataframe tbody tr th {\n",
       "        vertical-align: top;\n",
       "    }\n",
       "\n",
       "    .dataframe thead th {\n",
       "        text-align: right;\n",
       "    }\n",
       "</style>\n",
       "<table border=\"1\" class=\"dataframe\">\n",
       "  <thead>\n",
       "    <tr style=\"text-align: right;\">\n",
       "      <th></th>\n",
       "      <th>Apple</th>\n",
       "      <th>Tesla</th>\n",
       "      <th>Microsoft</th>\n",
       "    </tr>\n",
       "  </thead>\n",
       "  <tbody>\n",
       "    <tr>\n",
       "      <th>Apple</th>\n",
       "      <td>1.000000</td>\n",
       "      <td>-0.020567</td>\n",
       "      <td>0.785821</td>\n",
       "    </tr>\n",
       "    <tr>\n",
       "      <th>Tesla</th>\n",
       "      <td>-0.020567</td>\n",
       "      <td>1.000000</td>\n",
       "      <td>-0.377755</td>\n",
       "    </tr>\n",
       "    <tr>\n",
       "      <th>Microsoft</th>\n",
       "      <td>0.785821</td>\n",
       "      <td>-0.377755</td>\n",
       "      <td>1.000000</td>\n",
       "    </tr>\n",
       "  </tbody>\n",
       "</table>\n",
       "</div>"
      ],
      "text/plain": [
       "              Apple     Tesla  Microsoft\n",
       "Apple      1.000000 -0.020567   0.785821\n",
       "Tesla     -0.020567  1.000000  -0.377755\n",
       "Microsoft  0.785821 -0.377755   1.000000"
      ]
     },
     "metadata": {},
     "execution_count": 9
    }
   ],
   "metadata": {}
  },
  {
   "cell_type": "markdown",
   "source": [
    "From the above data, we can see that stock prices of Apple and Microsoft have a strong positive correlation. Also, we can see that stock price Tesla is negativly correlated with Microsoft."
   ],
   "metadata": {}
  },
  {
   "cell_type": "code",
   "execution_count": 10,
   "source": [
    "#Find the dates for the highs and the lows of each stock\n",
    "\n",
    "# Highest Apple\n",
    "highest_apple = df[df[\"Apple\"] == df[\"Apple\"].max()]\n",
    "\n",
    "highest_tesla = df[df[\"Tesla\"] == df[\"Tesla\"].max()]\n",
    "\n",
    "highest_microsoft = df[df[\"Microsoft\"] == df[\"Microsoft\"].max()]\n",
    "\n",
    "# print(highest_apple.index, highest_tesla.index, highest_microsoft.index)\n",
    "\n",
    "apple_date = highest_apple.index.date\n",
    "tesla_date = highest_tesla.index.date\n",
    "micro_date = highest_microsoft.index.date\n",
    "\n",
    "print(\"Highest Apple stock price on:\", apple_date)\n",
    "print(\"Highest Tesla stock price on:\", tesla_date)\n",
    "print(\"Highest Microsoft stock price on:\", micro_date)"
   ],
   "outputs": [
    {
     "output_type": "stream",
     "name": "stdout",
     "text": [
      "Highest Apple stock price on: [datetime.date(2019, 12, 24)]\n",
      "Highest Tesla stock price on: [datetime.date(2019, 12, 24)]\n",
      "Highest Microsoft stock price on: [datetime.date(2019, 12, 20) datetime.date(2019, 12, 23)]\n"
     ]
    }
   ],
   "metadata": {}
  },
  {
   "cell_type": "code",
   "execution_count": 11,
   "source": [
    "# What's the net return for all stocks\n",
    "\n",
    "df.head()\n",
    "net_profit = (df.iloc[-1] / df.iloc[0]) - 1\n",
    "\n",
    "percentage_net_profit = round(net_profit * 100, 2)\n",
    "\n",
    "net_profit_df = pd.DataFrame(percentage_net_profit, columns=[\"% Net Profit\"])\n",
    "\n",
    "net_profit_df"
   ],
   "outputs": [
    {
     "output_type": "execute_result",
     "data": {
      "text/html": [
       "<div>\n",
       "<style scoped>\n",
       "    .dataframe tbody tr th:only-of-type {\n",
       "        vertical-align: middle;\n",
       "    }\n",
       "\n",
       "    .dataframe tbody tr th {\n",
       "        vertical-align: top;\n",
       "    }\n",
       "\n",
       "    .dataframe thead th {\n",
       "        text-align: right;\n",
       "    }\n",
       "</style>\n",
       "<table border=\"1\" class=\"dataframe\">\n",
       "  <thead>\n",
       "    <tr style=\"text-align: right;\">\n",
       "      <th></th>\n",
       "      <th>% Net Profit</th>\n",
       "    </tr>\n",
       "  </thead>\n",
       "  <tbody>\n",
       "    <tr>\n",
       "      <th>Apple</th>\n",
       "      <td>70.02</td>\n",
       "    </tr>\n",
       "    <tr>\n",
       "      <th>Tesla</th>\n",
       "      <td>32.67</td>\n",
       "    </tr>\n",
       "    <tr>\n",
       "      <th>Microsoft</th>\n",
       "      <td>89.03</td>\n",
       "    </tr>\n",
       "  </tbody>\n",
       "</table>\n",
       "</div>"
      ],
      "text/plain": [
       "           % Net Profit\n",
       "Apple             70.02\n",
       "Tesla             32.67\n",
       "Microsoft         89.03"
      ]
     },
     "metadata": {},
     "execution_count": 11
    }
   ],
   "metadata": {}
  },
  {
   "cell_type": "markdown",
   "source": [
    "Create a function to generate Fibonacci series. (5)"
   ],
   "metadata": {}
  },
  {
   "cell_type": "code",
   "execution_count": 12,
   "source": [
    "def fibonacci(n):\n",
    "  \"\"\"Returns the number in the n of the fibonacci series\"\"\"\n",
    "  if n <= 1:\n",
    "    return n\n",
    "  else:\n",
    "    return (fibonacci(n - 1) + fibonacci(n - 2))\n"
   ],
   "outputs": [],
   "metadata": {}
  },
  {
   "cell_type": "code",
   "execution_count": 13,
   "source": [
    "fibonacci_nums = []\n",
    "\n",
    "for num in range(10):\n",
    "  fibonacci_nums.append(fibonacci(num))\n",
    "\n",
    "print(fibonacci_nums)"
   ],
   "outputs": [
    {
     "output_type": "stream",
     "name": "stdout",
     "text": [
      "[0, 1, 1, 2, 3, 5, 8, 13, 21, 34]\n"
     ]
    }
   ],
   "metadata": {}
  },
  {
   "cell_type": "markdown",
   "source": [
    "Create a list for student names, marks for 2 subjects, and print out the percentage and if the student passed or failed. (5)"
   ],
   "metadata": {}
  },
  {
   "cell_type": "code",
   "execution_count": 14,
   "source": [
    "passing_perc = 50\n",
    "\n",
    "students = [\"Vikram\", \"Emma\", \"Jake\", \"Chris\"]\n",
    "\n",
    "percentage = {\n",
    "  \"Math\": [90, 49, 71, 63],\n",
    "  \"Computers\": [95, 79, 25, 62]\n",
    "}\n",
    "\n",
    "\n",
    "for i, name in enumerate(students):\n",
    "\n",
    "  for sub in percentage.items():\n",
    "\n",
    "    sub_perc = percentage[sub[0]][i]\n",
    "\n",
    "    if sub_perc >= passing_perc:\n",
    "      print(f\"{name} passed in {sub[0]} with {sub_perc}%\")\n",
    "    else:\n",
    "      print(f\"{name} failed in {sub[0]} with {sub_perc}%\")\n"
   ],
   "outputs": [
    {
     "output_type": "stream",
     "name": "stdout",
     "text": [
      "Vikram passed in Math with 90%\n",
      "Vikram passed in Computers with 95%\n",
      "Emma failed in Math with 49%\n",
      "Emma passed in Computers with 79%\n",
      "Jake passed in Math with 71%\n",
      "Jake failed in Computers with 25%\n",
      "Chris passed in Math with 63%\n",
      "Chris passed in Computers with 62%\n"
     ]
    }
   ],
   "metadata": {}
  }
 ],
 "metadata": {
  "orig_nbformat": 4,
  "language_info": {
   "name": "python",
   "version": "3.9.7",
   "mimetype": "text/x-python",
   "codemirror_mode": {
    "name": "ipython",
    "version": 3
   },
   "pygments_lexer": "ipython3",
   "nbconvert_exporter": "python",
   "file_extension": ".py"
  },
  "kernelspec": {
   "name": "python3",
   "display_name": "Python 3.9.7 64-bit"
  },
  "interpreter": {
   "hash": "916dbcbb3f70747c44a77c7bcd40155683ae19c65e1c03b4aa3499c5328201f1"
  }
 },
 "nbformat": 4,
 "nbformat_minor": 2
}