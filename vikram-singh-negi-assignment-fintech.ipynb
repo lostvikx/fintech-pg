{
 "cells": [
  {
   "cell_type": "code",
   "execution_count": 1,
   "source": [
    "from pandas_datareader import data\n",
    "import matplotlib.pyplot as plt\n",
    "import datetime.datetime as date\n",
    "import calendar\n",
    "import pandas as pd\n",
    "import numpy as np"
   ],
   "outputs": [],
   "metadata": {}
  },
  {
   "cell_type": "code",
   "execution_count": 2,
   "source": [
    "# get data from the yahoo finance api\n",
    "apple = data.DataReader(\"AAPL\", start=\"2018-1-1\", end=\"2019-12-24\", data_source=\"yahoo\")\n",
    "\n",
    "tesla = data.DataReader(\"TSLA\", start=\"2018-1-1\", end=\"2019-12-24\", data_source=\"yahoo\")\n",
    "\n",
    "microsoft = data.DataReader(\"MSFT\", start=\"2018-1-1\", end=\"2019-12-24\", data_source=\"yahoo\")"
   ],
   "outputs": [],
   "metadata": {}
  },
  {
   "cell_type": "code",
   "execution_count": 3,
   "source": [
    "plt.plot(apple.index, apple[\"Adj Close\"])"
   ],
   "outputs": [
    {
     "output_type": "execute_result",
     "data": {
      "text/plain": [
       "[<matplotlib.lines.Line2D at 0x7f11aac8bfa0>]"
      ]
     },
     "metadata": {},
     "execution_count": 3
    },
    {
     "output_type": "display_data",
     "data": {
      "image/png": "[encoded data removed]",
      "text/plain": [
       "<Figure size 432x288 with 1 Axes>"
      ]
     },
     "metadata": {
      "needs_background": "light"
     }
    }
   ],
   "metadata": {}
  },
  {
   "cell_type": "code",
   "execution_count": 5,
   "source": [
    "simple_test = apple.loc[\"2019-1-1\" : \"2019-12-24\"]"
   ],
   "outputs": [],
   "metadata": {}
  },
  {
   "cell_type": "code",
   "execution_count": 6,
   "source": [
    "#Merge the dataframe with adj. closing price\n",
    "#compute returns for each day\n",
    "#Find average profitable days in a month\n",
    "#find correlation between the stock prices\n",
    "#Find the dates for the highs and the lows of each stock\n",
    "#Whats the net return for all stocks"
   ],
   "outputs": [],
   "metadata": {}
  },
  {
   "cell_type": "code",
   "execution_count": 15,
   "source": [
    "only19 = apple.index.year == 2019\n",
    "apple[only19]\n",
    "\n",
    "df = pd.concat([apple[\"Adj Close\"], tesla[\"Adj Close\"], microsoft[\"Adj Close\"]], axis=1)\n",
    "df.rename({0: \"Date\", 1: \"Apple\", 2: \"Tesla\", 3: \"Microsoft\"}, axis=\"columns\")\n",
    "\n",
    "df.columns = [\"Apple\", \"Tesla\", \"Microsoft\"]\n",
    "df.head()"
   ],
   "outputs": [
    {
     "output_type": "execute_result",
     "data": {
      "text/html": [
       "<div>\n",
       "<style scoped>\n",
       "    .dataframe tbody tr th:only-of-type {\n",
       "        vertical-align: middle;\n",
       "    }\n",
       "\n",
       "    .dataframe tbody tr th {\n",
       "        vertical-align: top;\n",
       "    }\n",
       "\n",
       "    .dataframe thead th {\n",
       "        text-align: right;\n",
       "    }\n",
       "</style>\n",
       "<table border=\"1\" class=\"dataframe\">\n",
       "  <thead>\n",
       "    <tr style=\"text-align: right;\">\n",
       "      <th></th>\n",
       "      <th>Apple</th>\n",
       "      <th>Tesla</th>\n",
       "      <th>Microsoft</th>\n",
       "    </tr>\n",
       "    <tr>\n",
       "      <th>Date</th>\n",
       "      <th></th>\n",
       "      <th></th>\n",
       "      <th></th>\n",
       "    </tr>\n",
       "  </thead>\n",
       "  <tbody>\n",
       "    <tr>\n",
       "      <th>2018-01-02</th>\n",
       "      <td>41.135757</td>\n",
       "      <td>64.106003</td>\n",
       "      <td>81.530235</td>\n",
       "    </tr>\n",
       "    <tr>\n",
       "      <th>2018-01-03</th>\n",
       "      <td>41.128586</td>\n",
       "      <td>63.450001</td>\n",
       "      <td>81.909660</td>\n",
       "    </tr>\n",
       "    <tr>\n",
       "      <th>2018-01-04</th>\n",
       "      <td>41.319633</td>\n",
       "      <td>62.924000</td>\n",
       "      <td>82.630592</td>\n",
       "    </tr>\n",
       "    <tr>\n",
       "      <th>2018-01-05</th>\n",
       "      <td>41.790073</td>\n",
       "      <td>63.316002</td>\n",
       "      <td>83.655052</td>\n",
       "    </tr>\n",
       "    <tr>\n",
       "      <th>2018-01-08</th>\n",
       "      <td>41.634850</td>\n",
       "      <td>67.281998</td>\n",
       "      <td>83.740425</td>\n",
       "    </tr>\n",
       "  </tbody>\n",
       "</table>\n",
       "</div>"
      ],
      "text/plain": [
       "                Apple      Tesla  Microsoft\n",
       "Date                                       \n",
       "2018-01-02  41.135757  64.106003  81.530235\n",
       "2018-01-03  41.128586  63.450001  81.909660\n",
       "2018-01-04  41.319633  62.924000  82.630592\n",
       "2018-01-05  41.790073  63.316002  83.655052\n",
       "2018-01-08  41.634850  67.281998  83.740425"
      ]
     },
     "metadata": {},
     "execution_count": 15
    }
   ],
   "metadata": {}
  },
  {
   "cell_type": "code",
   "execution_count": 9,
   "source": [
    "# Method 1\n",
    "# returns = df/df.shift(1) - 1\n",
    "\n",
    "# Method 2\n",
    "returns = df.pct_change()\n",
    "returns.iloc[0, :] = 0\n",
    "returns.columns = [\"AAPL_returns\", \"TSLA_returns\", \"MSFT_returns\"]\n",
    "returns.head()"
   ],
   "outputs": [
    {
     "output_type": "execute_result",
     "data": {
      "text/html": [
       "<div>\n",
       "<style scoped>\n",
       "    .dataframe tbody tr th:only-of-type {\n",
       "        vertical-align: middle;\n",
       "    }\n",
       "\n",
       "    .dataframe tbody tr th {\n",
       "        vertical-align: top;\n",
       "    }\n",
       "\n",
       "    .dataframe thead th {\n",
       "        text-align: right;\n",
       "    }\n",
       "</style>\n",
       "<table border=\"1\" class=\"dataframe\">\n",
       "  <thead>\n",
       "    <tr style=\"text-align: right;\">\n",
       "      <th></th>\n",
       "      <th>AAPL_returns</th>\n",
       "      <th>TSLA_returns</th>\n",
       "      <th>MSFT_returns</th>\n",
       "    </tr>\n",
       "    <tr>\n",
       "      <th>Date</th>\n",
       "      <th></th>\n",
       "      <th></th>\n",
       "      <th></th>\n",
       "    </tr>\n",
       "  </thead>\n",
       "  <tbody>\n",
       "    <tr>\n",
       "      <th>2018-01-02</th>\n",
       "      <td>0.000000</td>\n",
       "      <td>0.000000</td>\n",
       "      <td>0.000000</td>\n",
       "    </tr>\n",
       "    <tr>\n",
       "      <th>2018-01-03</th>\n",
       "      <td>-0.000174</td>\n",
       "      <td>-0.010233</td>\n",
       "      <td>0.004654</td>\n",
       "    </tr>\n",
       "    <tr>\n",
       "      <th>2018-01-04</th>\n",
       "      <td>0.004645</td>\n",
       "      <td>-0.008290</td>\n",
       "      <td>0.008802</td>\n",
       "    </tr>\n",
       "    <tr>\n",
       "      <th>2018-01-05</th>\n",
       "      <td>0.011385</td>\n",
       "      <td>0.006230</td>\n",
       "      <td>0.012398</td>\n",
       "    </tr>\n",
       "    <tr>\n",
       "      <th>2018-01-08</th>\n",
       "      <td>-0.003714</td>\n",
       "      <td>0.062638</td>\n",
       "      <td>0.001021</td>\n",
       "    </tr>\n",
       "  </tbody>\n",
       "</table>\n",
       "</div>"
      ],
      "text/plain": [
       "            AAPL_returns  TSLA_returns  MSFT_returns\n",
       "Date                                                \n",
       "2018-01-02      0.000000      0.000000      0.000000\n",
       "2018-01-03     -0.000174     -0.010233      0.004654\n",
       "2018-01-04      0.004645     -0.008290      0.008802\n",
       "2018-01-05      0.011385      0.006230      0.012398\n",
       "2018-01-08     -0.003714      0.062638      0.001021"
      ]
     },
     "metadata": {},
     "execution_count": 9
    }
   ],
   "metadata": {}
  },
  {
   "cell_type": "code",
   "execution_count": 14,
   "source": [
    "#Find average profitable days in a month\n",
    "\n",
    "returns.head()\n",
    "# df.index\n",
    "# pd.DatetimeIndex(df.index).to_period(\"M\")\n",
    "\n",
    "monthly_gb = returns.groupby([returns.index.year, returns.index.month])\n",
    "\n",
    "# sum of all positive returns\n",
    "# sum_of_positive_returns = monthly_gb.aggregate([(\"Sum_Positive\", lambda x: x[x > 0].sum()), (\"Count\", lambda x: x[x>0].count())])\n",
    "\n",
    "# count of all days, where returns are positive\n",
    "profitable_days = monthly_gb.aggregate([(\"Profitable Days\", lambda x: x[x>0].count())])\n",
    "\n",
    "profitable_days.loc[\"Average profitable days in a month\"] = profitable_days.mean()\n",
    "round(profitable_days.iloc[-1])\n"
   ],
   "outputs": [
    {
     "output_type": "execute_result",
     "data": {
      "text/plain": [
       "AAPL_returns  Profitable Days    11.0\n",
       "TSLA_returns  Profitable Days    10.0\n",
       "MSFT_returns  Profitable Days    12.0\n",
       "Name: Average profitable days in a month, dtype: float64"
      ]
     },
     "metadata": {},
     "execution_count": 14
    }
   ],
   "metadata": {}
  },
  {
   "cell_type": "code",
   "execution_count": 16,
   "source": [
    "#find correlation between the stock prices\n",
    "\n",
    "returns.head()\n",
    "\n",
    "returns_corr = returns.corr(method=\"pearson\")\n",
    "returns_corr"
   ],
   "outputs": [
    {
     "output_type": "execute_result",
     "data": {
      "text/html": [
       "<div>\n",
       "<style scoped>\n",
       "    .dataframe tbody tr th:only-of-type {\n",
       "        vertical-align: middle;\n",
       "    }\n",
       "\n",
       "    .dataframe tbody tr th {\n",
       "        vertical-align: top;\n",
       "    }\n",
       "\n",
       "    .dataframe thead th {\n",
       "        text-align: right;\n",
       "    }\n",
       "</style>\n",
       "<table border=\"1\" class=\"dataframe\">\n",
       "  <thead>\n",
       "    <tr style=\"text-align: right;\">\n",
       "      <th></th>\n",
       "      <th>AAPL_returns</th>\n",
       "      <th>TSLA_returns</th>\n",
       "      <th>MSFT_returns</th>\n",
       "    </tr>\n",
       "  </thead>\n",
       "  <tbody>\n",
       "    <tr>\n",
       "      <th>AAPL_returns</th>\n",
       "      <td>1.000000</td>\n",
       "      <td>0.323235</td>\n",
       "      <td>0.663754</td>\n",
       "    </tr>\n",
       "    <tr>\n",
       "      <th>TSLA_returns</th>\n",
       "      <td>0.323235</td>\n",
       "      <td>1.000000</td>\n",
       "      <td>0.349160</td>\n",
       "    </tr>\n",
       "    <tr>\n",
       "      <th>MSFT_returns</th>\n",
       "      <td>0.663754</td>\n",
       "      <td>0.349160</td>\n",
       "      <td>1.000000</td>\n",
       "    </tr>\n",
       "  </tbody>\n",
       "</table>\n",
       "</div>"
      ],
      "text/plain": [
       "              AAPL_returns  TSLA_returns  MSFT_returns\n",
       "AAPL_returns      1.000000      0.323235      0.663754\n",
       "TSLA_returns      0.323235      1.000000      0.349160\n",
       "MSFT_returns      0.663754      0.349160      1.000000"
      ]
     },
     "metadata": {},
     "execution_count": 16
    }
   ],
   "metadata": {}
  },
  {
   "cell_type": "markdown",
   "source": [
    "From the above computation of Karl Pearson's correlation coefficient, returns from Microsoft stock is highly correlated with Apple stock. "
   ],
   "metadata": {}
  },
  {
   "cell_type": "code",
   "execution_count": 17,
   "source": [
    "stock_price_corr = df.corr(method=\"pearson\")\n",
    "stock_price_corr"
   ],
   "outputs": [
    {
     "output_type": "execute_result",
     "data": {
      "text/html": [
       "<div>\n",
       "<style scoped>\n",
       "    .dataframe tbody tr th:only-of-type {\n",
       "        vertical-align: middle;\n",
       "    }\n",
       "\n",
       "    .dataframe tbody tr th {\n",
       "        vertical-align: top;\n",
       "    }\n",
       "\n",
       "    .dataframe thead th {\n",
       "        text-align: right;\n",
       "    }\n",
       "</style>\n",
       "<table border=\"1\" class=\"dataframe\">\n",
       "  <thead>\n",
       "    <tr style=\"text-align: right;\">\n",
       "      <th></th>\n",
       "      <th>Apple</th>\n",
       "      <th>Tesla</th>\n",
       "      <th>Microsoft</th>\n",
       "    </tr>\n",
       "  </thead>\n",
       "  <tbody>\n",
       "    <tr>\n",
       "      <th>Apple</th>\n",
       "      <td>1.000000</td>\n",
       "      <td>-0.020567</td>\n",
       "      <td>0.785821</td>\n",
       "    </tr>\n",
       "    <tr>\n",
       "      <th>Tesla</th>\n",
       "      <td>-0.020567</td>\n",
       "      <td>1.000000</td>\n",
       "      <td>-0.377755</td>\n",
       "    </tr>\n",
       "    <tr>\n",
       "      <th>Microsoft</th>\n",
       "      <td>0.785821</td>\n",
       "      <td>-0.377755</td>\n",
       "      <td>1.000000</td>\n",
       "    </tr>\n",
       "  </tbody>\n",
       "</table>\n",
       "</div>"
      ],
      "text/plain": [
       "              Apple     Tesla  Microsoft\n",
       "Apple      1.000000 -0.020567   0.785821\n",
       "Tesla     -0.020567  1.000000  -0.377755\n",
       "Microsoft  0.785821 -0.377755   1.000000"
      ]
     },
     "metadata": {},
     "execution_count": 17
    }
   ],
   "metadata": {}
  },
  {
   "cell_type": "markdown",
   "source": [
    "From the above data, we can see that stock prices of Apple and Microsoft have a strong positive correlation. Also, we can see that stock price Tesla is negativly correlated with Microsoft."
   ],
   "metadata": {}
  },
  {
   "cell_type": "code",
   "execution_count": 20,
   "source": [
    "#Find the dates for the highs and the lows of each stock\n",
    "\n",
    "# Highest Apple\n",
    "highest_apple = df[df[\"Apple\"] == df[\"Apple\"].max()]\n",
    "\n",
    "highest_tesla = df[df[\"Tesla\"] == df[\"Tesla\"].max()]\n",
    "\n",
    "highest_microsoft = df[df[\"Microsoft\"] == df[\"Microsoft\"].max()]\n",
    "\n",
    "# print(highest_apple.index, highest_tesla.index, highest_microsoft.index)\n",
    "\n",
    "apple_date = highest_apple.index.date\n",
    "tesla_date = highest_tesla.index.date\n",
    "micro_date = highest_microsoft.index.date\n",
    "\n",
    "print(\"Highest Apple stock price on:\", apple_date)\n",
    "print(\"Highest Tesla stock price on:\", tesla_date)\n",
    "print(\"Highest Microsoft stock price on:\", micro_date)"
   ],
   "outputs": [
    {
     "output_type": "stream",
     "name": "stdout",
     "text": [
      "Highest Apple stock price on: [datetime.date(2019, 12, 24)]\n",
      "Highest Tesla stock price on: [datetime.date(2019, 12, 24)]\n",
      "Highest Microsoft stock price on: [datetime.date(2019, 12, 20) datetime.date(2019, 12, 23)]\n"
     ]
    }
   ],
   "metadata": {}
  },
  {
   "cell_type": "code",
   "execution_count": 11,
   "source": [
    "# What's the net return for all stocks\n",
    "\n",
    "df.head()\n",
    "net_profit = (df.iloc[-1] / df.iloc[0]) - 1\n",
    "\n",
    "percentage_net_profit = round(net_profit * 100, 2)\n",
    "\n",
    "net_profit_df = pd.DataFrame(percentage_net_profit, columns=[\"% Net Profit\"])\n",
    "\n",
    "net_profit_df"
   ],
   "outputs": [
    {
     "output_type": "execute_result",
     "data": {
      "text/html": [
       "<div>\n",
       "<style scoped>\n",
       "    .dataframe tbody tr th:only-of-type {\n",
       "        vertical-align: middle;\n",
       "    }\n",
       "\n",
       "    .dataframe tbody tr th {\n",
       "        vertical-align: top;\n",
       "    }\n",
       "\n",
       "    .dataframe thead th {\n",
       "        text-align: right;\n",
       "    }\n",
       "</style>\n",
       "<table border=\"1\" class=\"dataframe\">\n",
       "  <thead>\n",
       "    <tr style=\"text-align: right;\">\n",
       "      <th></th>\n",
       "      <th>% Net Profit</th>\n",
       "    </tr>\n",
       "  </thead>\n",
       "  <tbody>\n",
       "    <tr>\n",
       "      <th>Apple</th>\n",
       "      <td>70.02</td>\n",
       "    </tr>\n",
       "    <tr>\n",
       "      <th>Tesla</th>\n",
       "      <td>32.67</td>\n",
       "    </tr>\n",
       "    <tr>\n",
       "      <th>Microsoft</th>\n",
       "      <td>89.03</td>\n",
       "    </tr>\n",
       "  </tbody>\n",
       "</table>\n",
       "</div>"
      ],
      "text/plain": [
       "           % Net Profit\n",
       "Apple             70.02\n",
       "Tesla             32.67\n",
       "Microsoft         89.03"
      ]
     },
     "metadata": {},
     "execution_count": 11
    }
   ],
   "metadata": {}
  },
  {
   "cell_type": "markdown",
   "source": [
    "Create a function to generate Fibonacci series. (5)"
   ],
   "metadata": {}
  },
  {
   "cell_type": "code",
   "execution_count": 12,
   "source": [
    "def fibonacci(n):\n",
    "  \"\"\"Returns the number in the n of the fibonacci series\"\"\"\n",
    "  if n <= 1:\n",
    "    return n\n",
    "  else:\n",
    "    return (fibonacci(n - 1) + fibonacci(n - 2))\n"
   ],
   "outputs": [],
   "metadata": {}
  },
  {
   "cell_type": "code",
   "execution_count": 13,
   "source": [
    "fibonacci_nums = []\n",
    "\n",
    "for num in range(10):\n",
    "  fibonacci_nums.append(fibonacci(num))\n",
    "\n",
    "print(fibonacci_nums)"
   ],
   "outputs": [
    {
     "output_type": "stream",
     "name": "stdout",
     "text": [
      "[0, 1, 1, 2, 3, 5, 8, 13, 21, 34]\n"
     ]
    }
   ],
   "metadata": {}
  },
  {
   "cell_type": "markdown",
   "source": [
    "Create a list for student names, marks for 2 subjects, and print out the percentage and if the student passed or failed. (5)"
   ],
   "metadata": {}
  },
  {
   "cell_type": "code",
   "execution_count": 14,
   "source": [
    "passing_perc = 50\n",
    "\n",
    "students = [\"Vikram\", \"Emma\", \"Jake\", \"Chris\"]\n",
    "\n",
    "percentage = {\n",
    "  \"Math\": [90, 49, 71, 63],\n",
    "  \"Computers\": [95, 79, 25, 62]\n",
    "}\n",
    "\n",
    "\n",
    "for i, name in enumerate(students):\n",
    "\n",
    "  for sub in percentage.items():\n",
    "\n",
    "    sub_perc = percentage[sub[0]][i]\n",
    "\n",
    "    if sub_perc >= passing_perc:\n",
    "      print(f\"{name} passed in {sub[0]} with {sub_perc}%\")\n",
    "    else:\n",
    "      print(f\"{name} failed in {sub[0]} with {sub_perc}%\")\n"
   ],
   "outputs": [
    {
     "output_type": "stream",
     "name": "stdout",
     "text": [
      "Vikram passed in Math with 90%\n",
      "Vikram passed in Computers with 95%\n",
      "Emma failed in Math with 49%\n",
      "Emma passed in Computers with 79%\n",
      "Jake passed in Math with 71%\n",
      "Jake failed in Computers with 25%\n",
      "Chris passed in Math with 63%\n",
      "Chris passed in Computers with 62%\n"
     ]
    }
   ],
   "metadata": {}
  }
 ],
 "metadata": {
  "orig_nbformat": 4,
  "language_info": {
   "name": "python",
   "version": "3.9.7",
   "mimetype": "text/x-python",
   "codemirror_mode": {
    "name": "ipython",
    "version": 3
   },
   "pygments_lexer": "ipython3",
   "nbconvert_exporter": "python",
   "file_extension": ".py"
  },
  "kernelspec": {
   "name": "python3",
   "display_name": "Python 3.9.7 64-bit"
  },
  "interpreter": {
   "hash": "916dbcbb3f70747c44a77c7bcd40155683ae19c65e1c03b4aa3499c5328201f1"
  }
 },
 "nbformat": 4,
 "nbformat_minor": 2
}