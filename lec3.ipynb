{
 "cells": [
  {
   "cell_type": "markdown",
   "source": [
    "This is the third lecture notes."
   ],
   "metadata": {}
  },
  {
   "cell_type": "code",
   "execution_count": 2,
   "source": [
    "def div(a, b):\n",
    "  assert b != 0 ; \"Can't divide by zero\"\n",
    "  temp = a/b\n",
    "  return temp"
   ],
   "outputs": [],
   "metadata": {}
  },
  {
   "cell_type": "code",
   "execution_count": null,
   "source": [
    "def add(*nums):\n",
    "  total = 0\n",
    "  for num in nums:\n",
    "    total += num\n",
    "  return total"
   ],
   "outputs": [],
   "metadata": {}
  },
  {
   "cell_type": "code",
   "execution_count": 27,
   "source": [
    "def addOrMultiply(operation:str, *nums:int) -> int:\n",
    "  \"\"\"\n",
    "    operation: either \"add\" or \"multiply\"\n",
    "\n",
    "    returns: int\n",
    "  \"\"\"\n",
    "  assert operation in [\"add\", \"multiply\"] ; \"Wrong operation!\"\n",
    "\n",
    "  total = 0\n",
    "\n",
    "  if operation == \"add\":\n",
    "    for num in nums:\n",
    "      total += num\n",
    "    return total\n",
    "  elif operation == \"multiply\":\n",
    "    total = 1\n",
    "\n",
    "    for num in nums:\n",
    "      total *= num\n",
    "\n",
    "    return total\n"
   ],
   "outputs": [],
   "metadata": {}
  },
  {
   "cell_type": "code",
   "execution_count": 28,
   "source": [
    "test1 = addOrMultiply(\"add\", 2, 2, 5)\n",
    "test2 = addOrMultiply(\"add\", 4, 1, 10)\n",
    "test3 = addOrMultiply(\"multiply\", 4, 1, 10)\n",
    "print(test1)\n",
    "print(test2)\n",
    "print(test3)"
   ],
   "outputs": [
    {
     "output_type": "stream",
     "name": "stdout",
     "text": [
      "9\n",
      "15\n",
      "40\n"
     ]
    }
   ],
   "metadata": {}
  }
 ],
 "metadata": {
  "orig_nbformat": 4,
  "language_info": {
   "name": "python",
   "version": "3.9.7",
   "mimetype": "text/x-python",
   "codemirror_mode": {
    "name": "ipython",
    "version": 3
   },
   "pygments_lexer": "ipython3",
   "nbconvert_exporter": "python",
   "file_extension": ".py"
  },
  "kernelspec": {
   "name": "python3",
   "display_name": "Python 3.9.7 64-bit"
  },
  "interpreter": {
   "hash": "916dbcbb3f70747c44a77c7bcd40155683ae19c65e1c03b4aa3499c5328201f1"
  }
 },
 "nbformat": 4,
 "nbformat_minor": 2
}