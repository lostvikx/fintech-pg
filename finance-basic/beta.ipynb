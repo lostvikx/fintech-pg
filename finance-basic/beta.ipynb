{
 "cells": [
  {
   "cell_type": "code",
   "execution_count": 1,
   "source": [
    "import pandas as pd\n",
    "import pandas_datareader.data as web\n",
    "import matplotlib.pyplot as plt\n",
    "import datetime\n",
    "import statsmodels.api as sm"
   ],
   "outputs": [],
   "metadata": {}
  },
  {
   "cell_type": "code",
   "execution_count": 2,
   "source": [
    "start_date = datetime.datetime(2016, 1, 1)\n",
    "end_date = datetime.datetime(2022, 1, 1)\n",
    "\n",
    "nx = web.get_data_yahoo(\"NFLX\", start_date, interval=\"m\")\n",
    "tesla = web.get_data_yahoo(\"TSLA\", start_date, interval=\"m\")\n",
    "nasdaq = web.get_data_yahoo(\"^IXIC\", start_date, interval=\"m\")"
   ],
   "outputs": [],
   "metadata": {}
  },
  {
   "cell_type": "markdown",
   "source": [
    "# Using Ordinary Least Squares\n",
    "\n",
    "To calculate the beta value, the distance between the line of best fit & point. This length is the error value.\n",
    "\n",
    "![OLS](./img/ols.png)"
   ],
   "metadata": {}
  },
  {
   "cell_type": "code",
   "execution_count": 38,
   "source": [
    "prices = pd.concat([nx[\"Adj Close\"], tesla[\"Adj Close\"], nasdaq[\"Adj Close\"]], axis=1)\n",
    "prices.columns = [\"Netflix\", \"Tesla\", \"Nasdaq\"]\n",
    "\n",
    "prices.tail()"
   ],
   "outputs": [
    {
     "output_type": "execute_result",
     "data": {
      "text/html": [
       "<div>\n",
       "<style scoped>\n",
       "    .dataframe tbody tr th:only-of-type {\n",
       "        vertical-align: middle;\n",
       "    }\n",
       "\n",
       "    .dataframe tbody tr th {\n",
       "        vertical-align: top;\n",
       "    }\n",
       "\n",
       "    .dataframe thead th {\n",
       "        text-align: right;\n",
       "    }\n",
       "</style>\n",
       "<table border=\"1\" class=\"dataframe\">\n",
       "  <thead>\n",
       "    <tr style=\"text-align: right;\">\n",
       "      <th></th>\n",
       "      <th>Netflix</th>\n",
       "      <th>Tesla</th>\n",
       "      <th>Nasdaq</th>\n",
       "    </tr>\n",
       "    <tr>\n",
       "      <th>Date</th>\n",
       "      <th></th>\n",
       "      <th></th>\n",
       "      <th></th>\n",
       "    </tr>\n",
       "  </thead>\n",
       "  <tbody>\n",
       "    <tr>\n",
       "      <th>2022-01-01</th>\n",
       "      <td>427.140015</td>\n",
       "      <td>936.719971</td>\n",
       "      <td>14239.879883</td>\n",
       "    </tr>\n",
       "    <tr>\n",
       "      <th>2022-02-01</th>\n",
       "      <td>394.519989</td>\n",
       "      <td>870.429993</td>\n",
       "      <td>13751.400391</td>\n",
       "    </tr>\n",
       "    <tr>\n",
       "      <th>2022-03-01</th>\n",
       "      <td>374.589996</td>\n",
       "      <td>1077.599976</td>\n",
       "      <td>14220.519531</td>\n",
       "    </tr>\n",
       "    <tr>\n",
       "      <th>2022-04-01</th>\n",
       "      <td>218.220001</td>\n",
       "      <td>1008.780029</td>\n",
       "      <td>13174.650391</td>\n",
       "    </tr>\n",
       "    <tr>\n",
       "      <th>2022-04-21</th>\n",
       "      <td>218.220001</td>\n",
       "      <td>1008.780029</td>\n",
       "      <td>13174.651367</td>\n",
       "    </tr>\n",
       "  </tbody>\n",
       "</table>\n",
       "</div>"
      ],
      "text/plain": [
       "               Netflix        Tesla        Nasdaq\n",
       "Date                                             \n",
       "2022-01-01  427.140015   936.719971  14239.879883\n",
       "2022-02-01  394.519989   870.429993  13751.400391\n",
       "2022-03-01  374.589996  1077.599976  14220.519531\n",
       "2022-04-01  218.220001  1008.780029  13174.650391\n",
       "2022-04-21  218.220001  1008.780029  13174.651367"
      ]
     },
     "metadata": {},
     "execution_count": 38
    }
   ],
   "metadata": {}
  },
  {
   "cell_type": "code",
   "execution_count": 33,
   "source": [
    "# 1 row up\n",
    "returns = prices.pct_change(1)\n",
    "clean_returns = returns.dropna(axis=0).iloc[:-1]  # axis=\"index\"\n",
    "\n",
    "# y = clean_returns.loc[:, clean_returns.columns != \"Nasdaq\"]\n",
    "y = clean_returns[\"Netflix\"]\n",
    "# print(y.tail())\n",
    "\n",
    "X = clean_returns[\"Nasdaq\"]\n",
    "x = sm.add_constant(X)\n",
    "\n",
    "model = sm.OLS(y, x)\n",
    "\n",
    "results = model.fit()\n",
    "print(results.params)\n",
    "print(results.summary())\n"
   ],
   "outputs": [
    {
     "output_type": "stream",
     "name": "stdout",
     "text": [
      "const    -0.001269\n",
      "Nasdaq    1.294165\n",
      "dtype: float64\n",
      "                            OLS Regression Results                            \n",
      "==============================================================================\n",
      "Dep. Variable:                Netflix   R-squared:                       0.303\n",
      "Model:                            OLS   Adj. R-squared:                  0.293\n",
      "Method:                 Least Squares   F-statistic:                     31.72\n",
      "Date:                Fri, 22 Apr 2022   Prob (F-statistic):           3.14e-07\n",
      "Time:                        08:53:45   Log-Likelihood:                 69.503\n",
      "No. Observations:                  75   AIC:                            -135.0\n",
      "Df Residuals:                      73   BIC:                            -130.4\n",
      "Df Model:                           1                                         \n",
      "Covariance Type:            nonrobust                                         \n",
      "==============================================================================\n",
      "                 coef    std err          t      P>|t|      [0.025      0.975]\n",
      "------------------------------------------------------------------------------\n",
      "const         -0.0013      0.012     -0.108      0.914      -0.025       0.022\n",
      "Nasdaq         1.2942      0.230      5.632      0.000       0.836       1.752\n",
      "==============================================================================\n",
      "Omnibus:                       10.446   Durbin-Watson:                   1.656\n",
      "Prob(Omnibus):                  0.005   Jarque-Bera (JB):               20.723\n",
      "Skew:                           0.367   Prob(JB):                     3.16e-05\n",
      "Kurtosis:                       5.468   Cond. No.                         20.5\n",
      "==============================================================================\n",
      "\n",
      "Notes:\n",
      "[1] Standard Errors assume that the covariance matrix of the errors is correctly specified.\n"
     ]
    }
   ],
   "metadata": {}
  }
 ],
 "metadata": {
  "interpreter": {
   "hash": "916dbcbb3f70747c44a77c7bcd40155683ae19c65e1c03b4aa3499c5328201f1"
  },
  "kernelspec": {
   "name": "python3",
   "display_name": "Python 3.9.7 64-bit"
  },
  "language_info": {
   "codemirror_mode": {
    "name": "ipython",
    "version": 3
   },
   "file_extension": ".py",
   "mimetype": "text/x-python",
   "name": "python",
   "nbconvert_exporter": "python",
   "pygments_lexer": "ipython3",
   "version": "3.9.7"
  }
 },
 "nbformat": 4,
 "nbformat_minor": 2
}