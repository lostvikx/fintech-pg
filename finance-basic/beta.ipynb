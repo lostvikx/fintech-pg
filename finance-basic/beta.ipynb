{
 "cells": [
  {
   "cell_type": "code",
   "execution_count": 38,
   "source": [
    "import pandas as pd\n",
    "import pandas_datareader.data as web\n",
    "import matplotlib.pyplot as plt\n",
    "import datetime\n",
    "import statsmodels.api as sm"
   ],
   "outputs": [],
   "metadata": {}
  },
  {
   "cell_type": "code",
   "execution_count": 39,
   "source": [
    "start_date = datetime.datetime(2016, 1, 1)\n",
    "end_date = datetime.datetime(2022, 1, 1)\n",
    "\n",
    "nx = web.get_data_yahoo(\"NFLX\", start_date, interval=\"m\")\n",
    "tesla = web.get_data_yahoo(\"TSLA\", start_date, interval=\"m\")\n",
    "nasdaq = web.get_data_yahoo(\"^IXIC\", start_date, interval=\"m\")"
   ],
   "outputs": [],
   "metadata": {}
  },
  {
   "cell_type": "markdown",
   "source": [
    "# Using Ordinary least squares\n",
    "\n",
    "To calculate the beta value, the distance between the line of best fit & point. This length is the error value.\n",
    "\n",
    "![OLS](/img/ols.png)"
   ],
   "metadata": {}
  },
  {
   "cell_type": "code",
   "execution_count": 40,
   "source": [
    "prices = pd.concat([nx[\"Adj Close\"], tesla[\"Adj Close\"], nasdaq[\"Adj Close\"]], axis=1)\n",
    "prices.columns = [\"Netflix\", \"Tesla\", \"Nasdaq\"]\n",
    "\n",
    "prices.tail()"
   ],
   "outputs": [
    {
     "output_type": "execute_result",
     "data": {
      "text/html": [
       "<div>\n",
       "<style scoped>\n",
       "    .dataframe tbody tr th:only-of-type {\n",
       "        vertical-align: middle;\n",
       "    }\n",
       "\n",
       "    .dataframe tbody tr th {\n",
       "        vertical-align: top;\n",
       "    }\n",
       "\n",
       "    .dataframe thead th {\n",
       "        text-align: right;\n",
       "    }\n",
       "</style>\n",
       "<table border=\"1\" class=\"dataframe\">\n",
       "  <thead>\n",
       "    <tr style=\"text-align: right;\">\n",
       "      <th></th>\n",
       "      <th>Netflix</th>\n",
       "      <th>Tesla</th>\n",
       "      <th>Nasdaq</th>\n",
       "    </tr>\n",
       "    <tr>\n",
       "      <th>Date</th>\n",
       "      <th></th>\n",
       "      <th></th>\n",
       "      <th></th>\n",
       "    </tr>\n",
       "  </thead>\n",
       "  <tbody>\n",
       "    <tr>\n",
       "      <th>2022-01-01</th>\n",
       "      <td>427.140015</td>\n",
       "      <td>936.719971</td>\n",
       "      <td>14239.879883</td>\n",
       "    </tr>\n",
       "    <tr>\n",
       "      <th>2022-02-01</th>\n",
       "      <td>394.519989</td>\n",
       "      <td>870.429993</td>\n",
       "      <td>13751.400391</td>\n",
       "    </tr>\n",
       "    <tr>\n",
       "      <th>2022-03-01</th>\n",
       "      <td>374.589996</td>\n",
       "      <td>1077.599976</td>\n",
       "      <td>14220.519531</td>\n",
       "    </tr>\n",
       "    <tr>\n",
       "      <th>2022-04-01</th>\n",
       "      <td>350.429993</td>\n",
       "      <td>1022.369995</td>\n",
       "      <td>13643.589844</td>\n",
       "    </tr>\n",
       "    <tr>\n",
       "      <th>2022-04-13</th>\n",
       "      <td>350.429993</td>\n",
       "      <td>1022.369995</td>\n",
       "      <td>13643.586914</td>\n",
       "    </tr>\n",
       "  </tbody>\n",
       "</table>\n",
       "</div>"
      ],
      "text/plain": [
       "               Netflix        Tesla        Nasdaq\n",
       "Date                                             \n",
       "2022-01-01  427.140015   936.719971  14239.879883\n",
       "2022-02-01  394.519989   870.429993  13751.400391\n",
       "2022-03-01  374.589996  1077.599976  14220.519531\n",
       "2022-04-01  350.429993  1022.369995  13643.589844\n",
       "2022-04-13  350.429993  1022.369995  13643.586914"
      ]
     },
     "metadata": {},
     "execution_count": 40
    }
   ],
   "metadata": {}
  },
  {
   "cell_type": "code",
   "execution_count": 41,
   "source": [
    "# 1 row up\n",
    "returns = prices.pct_change(1)\n",
    "clean_returns = returns.dropna(axis=\"index\").iloc[:-1]  # axis=0\n",
    "\n",
    "# print(clean_returns.tail())\n",
    "\n",
    "X = clean_returns.loc[:, clean_returns.columns != \"Nasdaq\"]\n",
    "\n",
    "# X = clean_returns[\"Netflix\"]\n",
    "y = clean_returns[\"Nasdaq\"]\n",
    "\n",
    "x = sm.add_constant(X)\n",
    "# print(x)\n",
    "model = sm.OLS(y, x)\n",
    "\n",
    "results = model.fit()\n",
    "print(results.params)\n",
    "print(results.summary())"
   ],
   "outputs": [
    {
     "output_type": "stream",
     "name": "stdout",
     "text": [
      "const      0.004190\n",
      "Netflix    0.195141\n",
      "Tesla      0.118756\n",
      "dtype: float64\n",
      "                            OLS Regression Results                            \n",
      "==============================================================================\n",
      "Dep. Variable:                 Nasdaq   R-squared:                       0.468\n",
      "Model:                            OLS   Adj. R-squared:                  0.453\n",
      "Method:                 Least Squares   F-statistic:                     31.61\n",
      "Date:                Thu, 14 Apr 2022   Prob (F-statistic):           1.40e-10\n",
      "Time:                        12:24:06   Log-Likelihood:                 144.75\n",
      "No. Observations:                  75   AIC:                            -283.5\n",
      "Df Residuals:                      72   BIC:                            -276.6\n",
      "Df Model:                           2                                         \n",
      "Covariance Type:            nonrobust                                         \n",
      "==============================================================================\n",
      "                 coef    std err          t      P>|t|      [0.025      0.975]\n",
      "------------------------------------------------------------------------------\n",
      "const          0.0042      0.004      0.953      0.344      -0.005       0.013\n",
      "Netflix        0.1951      0.041      4.734      0.000       0.113       0.277\n",
      "Tesla          0.1188      0.023      5.064      0.000       0.072       0.166\n",
      "==============================================================================\n",
      "Omnibus:                        7.016   Durbin-Watson:                   1.971\n",
      "Prob(Omnibus):                  0.030   Jarque-Bera (JB):                6.347\n",
      "Skew:                          -0.673   Prob(JB):                       0.0419\n",
      "Kurtosis:                       3.469   Cond. No.                         10.1\n",
      "==============================================================================\n",
      "\n",
      "Notes:\n",
      "[1] Standard Errors assume that the covariance matrix of the errors is correctly specified.\n"
     ]
    }
   ],
   "metadata": {}
  }
 ],
 "metadata": {
  "interpreter": {
   "hash": "916dbcbb3f70747c44a77c7bcd40155683ae19c65e1c03b4aa3499c5328201f1"
  },
  "kernelspec": {
   "name": "python3",
   "display_name": "Python 3.9.7 64-bit"
  },
  "language_info": {
   "codemirror_mode": {
    "name": "ipython",
    "version": 3
   },
   "file_extension": ".py",
   "mimetype": "text/x-python",
   "name": "python",
   "nbconvert_exporter": "python",
   "pygments_lexer": "ipython3",
   "version": "3.9.7"
  }
 },
 "nbformat": 4,
 "nbformat_minor": 2
}