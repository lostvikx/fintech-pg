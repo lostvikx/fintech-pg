{
 "cells": [
  {
   "cell_type": "markdown",
   "source": [
    "# Time Value of Money"
   ],
   "metadata": {}
  },
  {
   "cell_type": "code",
   "execution_count": 1,
   "source": [
    "import numpy_financial as npf\n",
    "import pandas as pd\n",
    "import numpy as np"
   ],
   "outputs": [],
   "metadata": {}
  },
  {
   "cell_type": "code",
   "execution_count": 2,
   "source": [
    "[fn for fn in dir(npf) if not fn.startswith(\"_\")]"
   ],
   "outputs": [
    {
     "output_type": "execute_result",
     "data": {
      "text/plain": [
       "['fv', 'ipmt', 'irr', 'mirr', 'nper', 'npv', 'pmt', 'ppmt', 'pv', 'rate']"
      ]
     },
     "metadata": {},
     "execution_count": 2
    }
   ],
   "metadata": {}
  },
  {
   "cell_type": "code",
   "execution_count": 3,
   "source": [
    "npf.__version__"
   ],
   "outputs": [
    {
     "output_type": "execute_result",
     "data": {
      "text/plain": [
       "'1.0.0'"
      ]
     },
     "metadata": {},
     "execution_count": 3
    }
   ],
   "metadata": {}
  },
  {
   "cell_type": "markdown",
   "source": [
    "What is the future value after 10 years with monthly savings of $250? Assume the interest rate offered by the bank is 6% compounded monthly."
   ],
   "metadata": {}
  },
  {
   "cell_type": "markdown",
   "source": [
    "FVIFA = P * ([(1 + r)^n] - 1) / n\n",
    "\n",
    "r = 0.06 / 12 p.a\n",
    "\n",
    "n = 10 * 12 years\n",
    "\n",
    "P = $250"
   ],
   "metadata": {}
  },
  {
   "cell_type": "code",
   "execution_count": 4,
   "source": [
    "# params: rate, nper, pmt, pv, when=\"end\"\n",
    "npf.fv(0.06/12, 10*12, -250, 0)"
   ],
   "outputs": [
    {
     "output_type": "execute_result",
     "data": {
      "text/plain": [
       "40969.836701614506"
      ]
     },
     "metadata": {},
     "execution_count": 4
    }
   ],
   "metadata": {}
  },
  {
   "cell_type": "markdown",
   "source": [
    "What is the future value after 15 years of saving $1000 now, with an additional monthly savings of $150? Assume the interest rate offered by the bank is 3% compounded monthly."
   ],
   "metadata": {}
  },
  {
   "cell_type": "code",
   "execution_count": 5,
   "source": [
    "npf.fv(0.03/12, 15*12, -150, -1000)"
   ],
   "outputs": [
    {
     "output_type": "execute_result",
     "data": {
      "text/plain": [
       "35613.33520474759"
      ]
     },
     "metadata": {},
     "execution_count": 5
    }
   ],
   "metadata": {}
  },
  {
   "cell_type": "markdown",
   "source": [
    "## FI Question:\n",
    "\n",
    "A 7-year, 10% annual pay bond has a par value of Rs. 1000. What would this be trading for if it were being priced to yield 13% at an annual rate?"
   ],
   "metadata": {}
  },
  {
   "cell_type": "code",
   "execution_count": 6,
   "source": [
    "npf.pv(0.13, 7, -100, -1000)"
   ],
   "outputs": [
    {
     "output_type": "execute_result",
     "data": {
      "text/plain": [
       "867.3216870183404"
      ]
     },
     "metadata": {},
     "execution_count": 6
    }
   ],
   "metadata": {}
  },
  {
   "cell_type": "markdown",
   "source": [
    "## Suppose you take a home loan:\n",
    "\n",
    "* Loan Amount: $360000\n",
    "* Interest Rate: 5.875%\n",
    "* Years to pay back: 30 years\n",
    "\n",
    "Calculate:\n",
    "1. How much is the monthly payment?\n",
    "2. How sensitive is the payment to interest rate?"
   ],
   "metadata": {}
  },
  {
   "cell_type": "code",
   "execution_count": 7,
   "source": [
    "help(npf.pmt)"
   ],
   "outputs": [
    {
     "output_type": "stream",
     "name": "stdout",
     "text": [
      "Help on function pmt in module numpy_financial._financial:\n",
      "\n",
      "pmt(rate, nper, pv, fv=0, when='end')\n",
      "    Compute the payment against loan principal plus interest.\n",
      "    \n",
      "    Given:\n",
      "     * a present value, `pv` (e.g., an amount borrowed)\n",
      "     * a future value, `fv` (e.g., 0)\n",
      "     * an interest `rate` compounded once per period, of which\n",
      "       there are\n",
      "     * `nper` total\n",
      "     * and (optional) specification of whether payment is made\n",
      "       at the beginning (`when` = {'begin', 1}) or the end\n",
      "       (`when` = {'end', 0}) of each period\n",
      "    \n",
      "    Return:\n",
      "       the (fixed) periodic payment.\n",
      "    \n",
      "    Parameters\n",
      "    ----------\n",
      "    rate : array_like\n",
      "        Rate of interest (per period)\n",
      "    nper : array_like\n",
      "        Number of compounding periods\n",
      "    pv : array_like\n",
      "        Present value\n",
      "    fv : array_like,  optional\n",
      "        Future value (default = 0)\n",
      "    when : {{'begin', 1}, {'end', 0}}, {string, int}\n",
      "        When payments are due ('begin' (1) or 'end' (0))\n",
      "    \n",
      "    Returns\n",
      "    -------\n",
      "    out : ndarray\n",
      "        Payment against loan plus interest.  If all input is scalar, returns a\n",
      "        scalar float.  If any input is array_like, returns payment for each\n",
      "        input element. If multiple inputs are array_like, they all must have\n",
      "        the same shape.\n",
      "    \n",
      "    Notes\n",
      "    -----\n",
      "    The payment is computed by solving the equation::\n",
      "    \n",
      "     fv +\n",
      "     pv*(1 + rate)**nper +\n",
      "     pmt*(1 + rate*when)/rate*((1 + rate)**nper - 1) == 0\n",
      "    \n",
      "    or, when ``rate == 0``::\n",
      "    \n",
      "      fv + pv + pmt * nper == 0\n",
      "    \n",
      "    for ``pmt``.\n",
      "    \n",
      "    Note that computing a monthly mortgage payment is only\n",
      "    one use for this function.  For example, pmt returns the\n",
      "    periodic deposit one must make to achieve a specified\n",
      "    future balance given an initial deposit, a fixed,\n",
      "    periodically compounded interest rate, and the total\n",
      "    number of periods.\n",
      "    \n",
      "    References\n",
      "    ----------\n",
      "    .. [WRW] Wheeler, D. A., E. Rathke, and R. Weir (Eds.) (2009, May).\n",
      "       Open Document Format for Office Applications (OpenDocument)v1.2,\n",
      "       Part 2: Recalculated Formula (OpenFormula) Format - Annotated Version,\n",
      "       Pre-Draft 12. Organization for the Advancement of Structured Information\n",
      "       Standards (OASIS). Billerica, MA, USA. [ODT Document].\n",
      "       Available:\n",
      "       http://www.oasis-open.org/committees/documents.php\n",
      "       ?wg_abbrev=office-formulaOpenDocument-formula-20090508.odt\n",
      "    \n",
      "    Examples\n",
      "    --------\n",
      "    >>> import numpy_financial as npf\n",
      "    \n",
      "    What is the monthly payment needed to pay off a $200,000 loan in 15\n",
      "    years at an annual interest rate of 7.5%?\n",
      "    \n",
      "    >>> npf.pmt(0.075/12, 12*15, 200000)\n",
      "    -1854.0247200054619\n",
      "    \n",
      "    In order to pay-off (i.e., have a future-value of 0) the $200,000 obtained\n",
      "    today, a monthly payment of $1,854.02 would be required.  Note that this\n",
      "    example illustrates usage of `fv` having a default value of 0.\n",
      "\n"
     ]
    }
   ],
   "metadata": {}
  },
  {
   "cell_type": "code",
   "execution_count": 8,
   "source": [
    "rate = 5.875 # in %\n",
    "loan_amt = 360000\n",
    "term = 30"
   ],
   "outputs": [],
   "metadata": {}
  },
  {
   "cell_type": "code",
   "execution_count": 9,
   "source": [
    "mon_pmt = npf.pmt(rate/1200, term*12, -loan_amt)\n",
    "print(f\"We have to pay ${mon_pmt:,.2f} per month.\")"
   ],
   "outputs": [
    {
     "output_type": "stream",
     "name": "stdout",
     "text": [
      "We have to pay $2,129.54 per month.\n"
     ]
    }
   ],
   "metadata": {}
  },
  {
   "cell_type": "code",
   "execution_count": 10,
   "source": [
    "rates = [(rate -0.5 + x/4) / 1200 for x in range(5)]\n",
    "rates"
   ],
   "outputs": [
    {
     "output_type": "execute_result",
     "data": {
      "text/plain": [
       "[0.004479166666666667,\n",
       " 0.0046875,\n",
       " 0.004895833333333334,\n",
       " 0.005104166666666667,\n",
       " 0.0053125]"
      ]
     },
     "metadata": {},
     "execution_count": 10
    }
   ],
   "metadata": {}
  },
  {
   "cell_type": "code",
   "execution_count": 11,
   "source": [
    "pmts = npf.pmt(rates, term*12, -loan_amt)\n",
    "\n",
    "payments_data = {\"Interest\": [], \"Monthly_Pay\": []}\n",
    "\n",
    "for i, pay in enumerate(pmts):\n",
    "  payments_data[\"Interest\"].append(rates[i] * 1200)\n",
    "  payments_data[\"Monthly_Pay\"].append(round(pay, 2))\n",
    "\n",
    "pd.DataFrame(payments_data)"
   ],
   "outputs": [
    {
     "output_type": "execute_result",
     "data": {
      "text/html": [
       "<div>\n",
       "<style scoped>\n",
       "    .dataframe tbody tr th:only-of-type {\n",
       "        vertical-align: middle;\n",
       "    }\n",
       "\n",
       "    .dataframe tbody tr th {\n",
       "        vertical-align: top;\n",
       "    }\n",
       "\n",
       "    .dataframe thead th {\n",
       "        text-align: right;\n",
       "    }\n",
       "</style>\n",
       "<table border=\"1\" class=\"dataframe\">\n",
       "  <thead>\n",
       "    <tr style=\"text-align: right;\">\n",
       "      <th></th>\n",
       "      <th>Interest</th>\n",
       "      <th>Monthly_Pay</th>\n",
       "    </tr>\n",
       "  </thead>\n",
       "  <tbody>\n",
       "    <tr>\n",
       "      <th>0</th>\n",
       "      <td>5.375</td>\n",
       "      <td>2015.90</td>\n",
       "    </tr>\n",
       "    <tr>\n",
       "      <th>1</th>\n",
       "      <td>5.625</td>\n",
       "      <td>2072.36</td>\n",
       "    </tr>\n",
       "    <tr>\n",
       "      <th>2</th>\n",
       "      <td>5.875</td>\n",
       "      <td>2129.54</td>\n",
       "    </tr>\n",
       "    <tr>\n",
       "      <th>3</th>\n",
       "      <td>6.125</td>\n",
       "      <td>2187.40</td>\n",
       "    </tr>\n",
       "    <tr>\n",
       "      <th>4</th>\n",
       "      <td>6.375</td>\n",
       "      <td>2245.93</td>\n",
       "    </tr>\n",
       "  </tbody>\n",
       "</table>\n",
       "</div>"
      ],
      "text/plain": [
       "   Interest  Monthly_Pay\n",
       "0     5.375      2015.90\n",
       "1     5.625      2072.36\n",
       "2     5.875      2129.54\n",
       "3     6.125      2187.40\n",
       "4     6.375      2245.93"
      ]
     },
     "metadata": {},
     "execution_count": 11
    }
   ],
   "metadata": {}
  },
  {
   "cell_type": "markdown",
   "source": [
    "## Suppose you receive for the next few years\n",
    "* Annuity amount: $1000\n",
    "* Expected Return: 8%\n",
    "* Life: 5 years\n",
    "\n",
    "1. How much is $1000 received a year from now worth today?\n",
    "2. What is the value of the entire annuity in today's dollar?\n",
    "3. How much is each installment worth over the five years?"
   ],
   "metadata": {}
  },
  {
   "cell_type": "code",
   "execution_count": 12,
   "source": [
    "help(npf.pv)"
   ],
   "outputs": [
    {
     "output_type": "stream",
     "name": "stdout",
     "text": [
      "Help on function pv in module numpy_financial._financial:\n",
      "\n",
      "pv(rate, nper, pmt, fv=0, when='end')\n",
      "    Compute the present value.\n",
      "    \n",
      "    Given:\n",
      "     * a future value, `fv`\n",
      "     * an interest `rate` compounded once per period, of which\n",
      "       there are\n",
      "     * `nper` total\n",
      "     * a (fixed) payment, `pmt`, paid either\n",
      "     * at the beginning (`when` = {'begin', 1}) or the end\n",
      "       (`when` = {'end', 0}) of each period\n",
      "    \n",
      "    Return:\n",
      "       the value now\n",
      "    \n",
      "    Parameters\n",
      "    ----------\n",
      "    rate : array_like\n",
      "        Rate of interest (per period)\n",
      "    nper : array_like\n",
      "        Number of compounding periods\n",
      "    pmt : array_like\n",
      "        Payment\n",
      "    fv : array_like, optional\n",
      "        Future value\n",
      "    when : {{'begin', 1}, {'end', 0}}, {string, int}, optional\n",
      "        When payments are due ('begin' (1) or 'end' (0))\n",
      "    \n",
      "    Returns\n",
      "    -------\n",
      "    out : ndarray, float\n",
      "        Present value of a series of payments or investments.\n",
      "    \n",
      "    Notes\n",
      "    -----\n",
      "    The present value is computed by solving the equation::\n",
      "    \n",
      "     fv +\n",
      "     pv*(1 + rate)**nper +\n",
      "     pmt*(1 + rate*when)/rate*((1 + rate)**nper - 1) = 0\n",
      "    \n",
      "    or, when ``rate = 0``::\n",
      "    \n",
      "     fv + pv + pmt * nper = 0\n",
      "    \n",
      "    for `pv`, which is then returned.\n",
      "    \n",
      "    References\n",
      "    ----------\n",
      "    .. [WRW] Wheeler, D. A., E. Rathke, and R. Weir (Eds.) (2009, May).\n",
      "       Open Document Format for Office Applications (OpenDocument)v1.2,\n",
      "       Part 2: Recalculated Formula (OpenFormula) Format - Annotated Version,\n",
      "       Pre-Draft 12. Organization for the Advancement of Structured Information\n",
      "       Standards (OASIS). Billerica, MA, USA. [ODT Document].\n",
      "       Available:\n",
      "       http://www.oasis-open.org/committees/documents.php?wg_abbrev=office-formula\n",
      "       OpenDocument-formula-20090508.odt\n",
      "    \n",
      "    Examples\n",
      "    --------\n",
      "    >>> import numpy as np\n",
      "    >>> import numpy_financial as npf\n",
      "    \n",
      "    What is the present value (e.g., the initial investment)\n",
      "    of an investment that needs to total $15692.93\n",
      "    after 10 years of saving $100 every month?  Assume the\n",
      "    interest rate is 5% (annually) compounded monthly.\n",
      "    \n",
      "    >>> npf.pv(0.05/12, 10*12, -100, 15692.93)\n",
      "    -100.00067131625819\n",
      "    \n",
      "    By convention, the negative sign represents cash flow out\n",
      "    (i.e., money not available today).  Thus, to end up with\n",
      "    $15,692.93 in 10 years saving $100 a month at 5% annual\n",
      "    interest, one's initial deposit should also be $100.\n",
      "    \n",
      "    If any input is array_like, ``pv`` returns an array of equal shape.\n",
      "    Let's compare different interest rates in the example above:\n",
      "    \n",
      "    >>> a = np.array((0.05, 0.04, 0.03))/12\n",
      "    >>> npf.pv(a, 10*12, -100, 15692.93)\n",
      "    array([ -100.00067132,  -649.26771385, -1273.78633713]) # may vary\n",
      "    \n",
      "    So, to end up with the same $15692.93 under the same $100 per month\n",
      "    \"savings plan,\" for annual interest rates of 4% and 3%, one would\n",
      "    need initial investments of $649.27 and $1273.79, respectively.\n",
      "\n"
     ]
    }
   ],
   "metadata": {}
  },
  {
   "cell_type": "code",
   "execution_count": 13,
   "source": [
    "cashflow = 1000\n",
    "r = 0.08\n",
    "T = 5"
   ],
   "outputs": [],
   "metadata": {}
  },
  {
   "cell_type": "markdown",
   "source": [
    "### Cashflow at the end of first year."
   ],
   "metadata": {}
  },
  {
   "cell_type": "code",
   "execution_count": 14,
   "source": [
    "npf.pv(r, 1, 0, -cashflow)"
   ],
   "outputs": [
    {
     "output_type": "execute_result",
     "data": {
      "text/plain": [
       "925.9259259259259"
      ]
     },
     "metadata": {},
     "execution_count": 14
    }
   ],
   "metadata": {}
  },
  {
   "cell_type": "markdown",
   "source": [
    "### Cashflow of last year"
   ],
   "metadata": {}
  },
  {
   "cell_type": "code",
   "execution_count": 15,
   "source": [
    "npf.pv(r, T, 0, -cashflow)"
   ],
   "outputs": [
    {
     "output_type": "execute_result",
     "data": {
      "text/plain": [
       "680.5831970337529"
      ]
     },
     "metadata": {},
     "execution_count": 15
    }
   ],
   "metadata": {}
  },
  {
   "cell_type": "markdown",
   "source": [
    "### Present value of the total investment"
   ],
   "metadata": {}
  },
  {
   "cell_type": "code",
   "execution_count": 16,
   "source": [
    "npf.pv(r, T, -cashflow)"
   ],
   "outputs": [
    {
     "output_type": "execute_result",
     "data": {
      "text/plain": [
       "3992.7100370780886"
      ]
     },
     "metadata": {},
     "execution_count": 16
    }
   ],
   "metadata": {}
  },
  {
   "cell_type": "markdown",
   "source": [
    "### Cashflow for each year"
   ],
   "metadata": {}
  },
  {
   "cell_type": "code",
   "execution_count": 17,
   "source": [
    "T = range(1, 6)\n",
    "\n",
    "cashflows = npf.pv(r, T, 0, -cashflow)\n",
    "cashflows"
   ],
   "outputs": [
    {
     "output_type": "execute_result",
     "data": {
      "text/plain": [
       "array([925.92592593, 857.3388203 , 793.83224102, 735.0298528 ,\n",
       "       680.58319703])"
      ]
     },
     "metadata": {},
     "execution_count": 17
    }
   ],
   "metadata": {}
  },
  {
   "cell_type": "code",
   "execution_count": 18,
   "source": [
    "print(f\"\\n{'Year':10}{'PV of Cash Flow'}\")\n",
    "print(f\"-\" * 25)\n",
    "\n",
    "for year in T:\n",
    "  pv_cashflow = f\"$ {cashflows[year - 1]:,.2f}\"\n",
    "  print(f\"{year}{pv_cashflow:>24}\")"
   ],
   "outputs": [
    {
     "output_type": "stream",
     "name": "stdout",
     "text": [
      "\n",
      "Year      PV of Cash Flow\n",
      "-------------------------\n",
      "1                $ 925.93\n",
      "2                $ 857.34\n",
      "3                $ 793.83\n",
      "4                $ 735.03\n",
      "5                $ 680.58\n"
     ]
    }
   ],
   "metadata": {}
  },
  {
   "cell_type": "markdown",
   "source": [
    "### Cumsum of each year"
   ],
   "metadata": {}
  },
  {
   "cell_type": "code",
   "execution_count": 19,
   "source": [
    "np.cumsum(cashflows).round(2)"
   ],
   "outputs": [
    {
     "output_type": "execute_result",
     "data": {
      "text/plain": [
       "array([ 925.93, 1783.26, 2577.1 , 3312.13, 3992.71])"
      ]
     },
     "metadata": {},
     "execution_count": 19
    }
   ],
   "metadata": {}
  },
  {
   "cell_type": "markdown",
   "source": [
    "## NPV & IRR Funtions"
   ],
   "metadata": {}
  },
  {
   "cell_type": "markdown",
   "source": [
    "### Suppose you have a capital project:\n",
    "* n = 5 years\n",
    "* initital investment = $425,000\n",
    "* Cost of capital = 12%\n",
    "* Net annual cashflow = $150,000\n",
    "\n",
    "1. What is the Net Present Value of the project?\n",
    "2. What is the internal rate of return?"
   ],
   "metadata": {}
  },
  {
   "cell_type": "code",
   "execution_count": 20,
   "source": [
    "help(npf.npv)"
   ],
   "outputs": [
    {
     "output_type": "stream",
     "name": "stdout",
     "text": [
      "Help on function npv in module numpy_financial._financial:\n",
      "\n",
      "npv(rate, values)\n",
      "    Returns the NPV (Net Present Value) of a cash flow series.\n",
      "    \n",
      "    Parameters\n",
      "    ----------\n",
      "    rate : scalar\n",
      "        The discount rate.\n",
      "    values : array_like, shape(M, )\n",
      "        The values of the time series of cash flows.  The (fixed) time\n",
      "        interval between cash flow \"events\" must be the same as that for\n",
      "        which `rate` is given (i.e., if `rate` is per year, then precisely\n",
      "        a year is understood to elapse between each cash flow event).  By\n",
      "        convention, investments or \"deposits\" are negative, income or\n",
      "        \"withdrawals\" are positive; `values` must begin with the initial\n",
      "        investment, thus `values[0]` will typically be negative.\n",
      "    \n",
      "    Returns\n",
      "    -------\n",
      "    out : float\n",
      "        The NPV of the input cash flow series `values` at the discount\n",
      "        `rate`.\n",
      "    \n",
      "    Warnings\n",
      "    --------\n",
      "    ``npv`` considers a series of cashflows starting in the present (t = 0).\n",
      "    NPV can also be defined with a series of future cashflows, paid at the\n",
      "    end, rather than the start, of each period. If future cashflows are used,\n",
      "    the first cashflow `values[0]` must be zeroed and added to the net\n",
      "    present value of the future cashflows. This is demonstrated in the\n",
      "    examples.\n",
      "    \n",
      "    Notes\n",
      "    -----\n",
      "    Returns the result of: [G]_\n",
      "    \n",
      "    .. math :: \\sum_{t=0}^{M-1}{\\frac{values_t}{(1+rate)^{t}}}\n",
      "    \n",
      "    References\n",
      "    ----------\n",
      "    .. [G] L. J. Gitman, \"Principles of Managerial Finance, Brief,\" 3rd ed.,\n",
      "       Addison-Wesley, 2003, pg. 346.\n",
      "    \n",
      "    Examples\n",
      "    --------\n",
      "    >>> import numpy as np\n",
      "    >>> import numpy_financial as npf\n",
      "    \n",
      "    Consider a potential project with an initial investment of $40 000 and\n",
      "    projected cashflows of $5 000, $8 000, $12 000 and $30 000 at the end of\n",
      "    each period discounted at a rate of 8% per period. To find the project's\n",
      "    net present value:\n",
      "    \n",
      "    >>> rate, cashflows = 0.08, [-40_000, 5_000, 8_000, 12_000, 30_000]\n",
      "    >>> npf.npv(rate, cashflows).round(5)\n",
      "    3065.22267\n",
      "    \n",
      "    It may be preferable to split the projected cashflow into an initial\n",
      "    investment and expected future cashflows. In this case, the value of\n",
      "    the initial cashflow is zero and the initial investment is later added\n",
      "    to the future cashflows net present value:\n",
      "    \n",
      "    >>> initial_cashflow = cashflows[0]\n",
      "    >>> cashflows[0] = 0\n",
      "    >>> np.round(npf.npv(rate, cashflows) + initial_cashflow, 5)\n",
      "    3065.22267\n",
      "\n"
     ]
    }
   ],
   "metadata": {}
  },
  {
   "cell_type": "code",
   "execution_count": 21,
   "source": [
    "kc = 0.12\n",
    "cash_inflows = [-425000]\n",
    "n_years = 5\n",
    "\n",
    "i = 0\n",
    "while i < n_years:\n",
    "  cash_inflows.append(150000)\n",
    "  i+=1\n",
    "\n",
    "print(cash_inflows)"
   ],
   "outputs": [
    {
     "output_type": "stream",
     "name": "stdout",
     "text": [
      "[-425000, 150000, 150000, 150000, 150000, 150000]\n"
     ]
    }
   ],
   "metadata": {}
  },
  {
   "cell_type": "code",
   "execution_count": 22,
   "source": [
    "npv_project = npf.npv(kc, cash_inflows)\n",
    "print(f\"NPV = ${npv_project:,.2f} | We accept the project!\")"
   ],
   "outputs": [
    {
     "output_type": "stream",
     "name": "stdout",
     "text": [
      "NPV = $115,716.43 | We accept the project!\n"
     ]
    }
   ],
   "metadata": {}
  },
  {
   "cell_type": "code",
   "execution_count": 23,
   "source": [
    "# More verbose way\n",
    "discounted = []\n",
    "for n, cashflow in enumerate(cash_inflows):\n",
    "  discounted.append(cashflow / (1 + kc)**n)\n",
    "\n",
    "print(sum(discounted) == npv_project)"
   ],
   "outputs": [
    {
     "output_type": "stream",
     "name": "stdout",
     "text": [
      "True\n"
     ]
    }
   ],
   "metadata": {}
  },
  {
   "cell_type": "code",
   "execution_count": 24,
   "source": [
    "help(npf.irr)"
   ],
   "outputs": [
    {
     "output_type": "stream",
     "name": "stdout",
     "text": [
      "Help on function irr in module numpy_financial._financial:\n",
      "\n",
      "irr(values)\n",
      "    Return the Internal Rate of Return (IRR).\n",
      "    \n",
      "    This is the \"average\" periodically compounded rate of return\n",
      "    that gives a net present value of 0.0; for a more complete explanation,\n",
      "    see Notes below.\n",
      "    \n",
      "    :class:`decimal.Decimal` type is not supported.\n",
      "    \n",
      "    Parameters\n",
      "    ----------\n",
      "    values : array_like, shape(N,)\n",
      "        Input cash flows per time period.  By convention, net \"deposits\"\n",
      "        are negative and net \"withdrawals\" are positive.  Thus, for\n",
      "        example, at least the first element of `values`, which represents\n",
      "        the initial investment, will typically be negative.\n",
      "    \n",
      "    Returns\n",
      "    -------\n",
      "    out : float\n",
      "        Internal Rate of Return for periodic input values.\n",
      "    \n",
      "    Notes\n",
      "    -----\n",
      "    The IRR is perhaps best understood through an example (illustrated\n",
      "    using np.irr in the Examples section below).  Suppose one invests 100\n",
      "    units and then makes the following withdrawals at regular (fixed)\n",
      "    intervals: 39, 59, 55, 20.  Assuming the ending value is 0, one's 100\n",
      "    unit investment yields 173 units; however, due to the combination of\n",
      "    compounding and the periodic withdrawals, the \"average\" rate of return\n",
      "    is neither simply 0.73/4 nor (1.73)^0.25-1.  Rather, it is the solution\n",
      "    (for :math:`r`) of the equation:\n",
      "    \n",
      "    .. math:: -100 + \\frac{39}{1+r} + \\frac{59}{(1+r)^2}\n",
      "     + \\frac{55}{(1+r)^3} + \\frac{20}{(1+r)^4} = 0\n",
      "    \n",
      "    In general, for `values` :math:`= [v_0, v_1, ... v_M]`,\n",
      "    irr is the solution of the equation: [G]_\n",
      "    \n",
      "    .. math:: \\sum_{t=0}^M{\\frac{v_t}{(1+irr)^{t}}} = 0\n",
      "    \n",
      "    References\n",
      "    ----------\n",
      "    .. [G] L. J. Gitman, \"Principles of Managerial Finance, Brief,\" 3rd ed.,\n",
      "       Addison-Wesley, 2003, pg. 348.\n",
      "    \n",
      "    Examples\n",
      "    --------\n",
      "    >>> import numpy_financial as npf\n",
      "    \n",
      "    >>> round(npf.irr([-100, 39, 59, 55, 20]), 5)\n",
      "    0.28095\n",
      "    >>> round(npf.irr([-100, 0, 0, 74]), 5)\n",
      "    -0.0955\n",
      "    >>> round(npf.irr([-100, 100, 0, -7]), 5)\n",
      "    -0.0833\n",
      "    >>> round(npf.irr([-100, 100, 0, 7]), 5)\n",
      "    0.06206\n",
      "    >>> round(npf.irr([-5, 10.5, 1, -8, 1]), 5)\n",
      "    0.0886\n",
      "\n"
     ]
    }
   ],
   "metadata": {}
  },
  {
   "cell_type": "code",
   "execution_count": 25,
   "source": [
    "irr = npf.irr(cash_inflows)\n",
    "print(f\"IRR = {irr*100:.2f}%\")"
   ],
   "outputs": [
    {
     "output_type": "stream",
     "name": "stdout",
     "text": [
      "IRR = 22.50%\n"
     ]
    }
   ],
   "metadata": {}
  },
  {
   "cell_type": "code",
   "execution_count": 26,
   "source": [
    "npf.npv(irr, cash_inflows) # Almost zero"
   ],
   "outputs": [
    {
     "output_type": "execute_result",
     "data": {
      "text/plain": [
       "3.637978807091713e-10"
      ]
     },
     "metadata": {},
     "execution_count": 26
    }
   ],
   "metadata": {}
  },
  {
   "cell_type": "code",
   "execution_count": 29,
   "source": [
    "npf.fv(0.06/12, 10*12, -100, 0)"
   ],
   "outputs": [
    {
     "output_type": "execute_result",
     "data": {
      "text/plain": [
       "16387.9346806458"
      ]
     },
     "metadata": {},
     "execution_count": 29
    }
   ],
   "metadata": {}
  }
 ],
 "metadata": {
  "orig_nbformat": 4,
  "language_info": {
   "name": "python",
   "version": "3.9.7",
   "mimetype": "text/x-python",
   "codemirror_mode": {
    "name": "ipython",
    "version": 3
   },
   "pygments_lexer": "ipython3",
   "nbconvert_exporter": "python",
   "file_extension": ".py"
  },
  "kernelspec": {
   "name": "python3",
   "display_name": "Python 3.9.7 64-bit"
  },
  "interpreter": {
   "hash": "916dbcbb3f70747c44a77c7bcd40155683ae19c65e1c03b4aa3499c5328201f1"
  }
 },
 "nbformat": 4,
 "nbformat_minor": 2
}