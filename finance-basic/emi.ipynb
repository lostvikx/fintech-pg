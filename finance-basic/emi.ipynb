{
 "cells": [
  {
   "cell_type": "code",
   "execution_count": 114,
   "source": [
    "import numpy as np\n",
    "import pandas as pd\n",
    "import numpy_financial as npf\n",
    "from datetime import date"
   ],
   "outputs": [],
   "metadata": {}
  },
  {
   "cell_type": "code",
   "execution_count": 116,
   "source": [
    "Interest_Rate = 0.04\n",
    "Years = 30\n",
    "Payments_Year = 12 # monthly payments\n",
    "Principal = 200000\n",
    "start_date = date(2016, 1, 1)"
   ],
   "outputs": [],
   "metadata": {}
  },
  {
   "cell_type": "code",
   "execution_count": 117,
   "source": [
    "# Payment against loan principal plus interest\n",
    "\n",
    "# As the payment is monthly the interest rate is divided and the years is multiply. The payment is done at the end of the month.\n",
    "\n",
    "# when=\"end\" is default\n",
    "monthly_payment = npf.pmt(Interest_Rate/Payments_Year, Years*Payments_Year, Principal, when=\"end\")\n",
    "print(monthly_payment)"
   ],
   "outputs": [
    {
     "output_type": "stream",
     "name": "stdout",
     "text": [
      "-954.8305909309076\n"
     ]
    }
   ],
   "metadata": {}
  },
  {
   "cell_type": "code",
   "execution_count": 118,
   "source": [
    "total_payment = monthly_payment * 12 * Years\n",
    "total_payment"
   ],
   "outputs": [
    {
     "output_type": "execute_result",
     "data": {
      "text/plain": [
       "-343739.0127351268"
      ]
     },
     "metadata": {},
     "execution_count": 118
    }
   ],
   "metadata": {}
  },
  {
   "cell_type": "code",
   "execution_count": 119,
   "source": [
    "# Interest portion of a payment\n",
    "per = 1 # first installment\n",
    "\n",
    "interest_payment = npf.ipmt(Interest_Rate/Payments_Year, per, Years*Payments_Year, Principal)\n",
    "\n",
    "interest_payment"
   ],
   "outputs": [
    {
     "output_type": "execute_result",
     "data": {
      "text/plain": [
       "array(-666.66666667)"
      ]
     },
     "metadata": {},
     "execution_count": 119
    }
   ],
   "metadata": {}
  },
  {
   "cell_type": "code",
   "execution_count": 120,
   "source": [
    "# Principal portion of a payment\n",
    "principal_payment = npf.ppmt(Interest_Rate/Payments_Year, per, Years*Payments_Year, Principal)\n",
    "\n",
    "principal_payment"
   ],
   "outputs": [
    {
     "output_type": "execute_result",
     "data": {
      "text/plain": [
       "-288.1639242642409"
      ]
     },
     "metadata": {},
     "execution_count": 120
    }
   ],
   "metadata": {}
  },
  {
   "cell_type": "code",
   "execution_count": 121,
   "source": [
    "monthly_payment == interest_payment + principal_payment"
   ],
   "outputs": [
    {
     "output_type": "execute_result",
     "data": {
      "text/plain": [
       "True"
      ]
     },
     "metadata": {},
     "execution_count": 121
    }
   ],
   "metadata": {}
  },
  {
   "cell_type": "code",
   "execution_count": 159,
   "source": [
    "data = {\n",
    "  \"month\": range(1, Years * 12 + 1),\n",
    "  \"int_pay\": [],\n",
    "  \"pri_pay\": [],\n",
    "  # \"total_installment\": []\n",
    "}\n",
    "\n",
    "for month in data[\"month\"]:\n",
    "  data[\"int_pay\"].append(npf.ipmt(Interest_Rate/Payments_Year, month, Years*Payments_Year, -Principal))\n",
    "\n",
    "  data[\"pri_pay\"].append(npf.ppmt(Interest_Rate/Payments_Year, month, Years*Payments_Year, -Principal))\n",
    "\n",
    "  # data[\"total_installment\"].append(-monthly_payment)\n",
    "\n",
    "len(data[\"pri_pay\"])"
   ],
   "outputs": [
    {
     "output_type": "execute_result",
     "data": {
      "text/plain": [
       "360"
      ]
     },
     "metadata": {},
     "execution_count": 159
    }
   ],
   "metadata": {}
  },
  {
   "cell_type": "code",
   "execution_count": 160,
   "source": [
    "emi = pd.DataFrame(data)\n",
    "emi.set_index(\"month\", inplace=True)\n",
    "\n",
    "emi[\"total_monthly\"] = emi[\"int_pay\"] + emi[\"pri_pay\"]\n",
    "\n",
    "print(emi)"
   ],
   "outputs": [
    {
     "output_type": "stream",
     "name": "stdout",
     "text": [
      "                  int_pay     pri_pay total_monthly\n",
      "month                                              \n",
      "1       666.6666666666667  288.163924    954.830591\n",
      "2       665.7061202524525  289.124471    954.830591\n",
      "3       664.7423720168576  290.088219    954.830591\n",
      "4       663.7754112871442  291.055180    954.830591\n",
      "5       662.8052273549982  292.025364    954.830591\n",
      "...                   ...         ...           ...\n",
      "356    15.755934291332574  939.074657    954.830591\n",
      "357    12.625685435867249  942.204905    954.830591\n",
      "358     9.485002417550422  945.345589    954.830591\n",
      "359     6.333850455839032  948.496740    954.830591\n",
      "360    3.1721946542554846  951.658396    954.830591\n",
      "\n",
      "[360 rows x 3 columns]\n"
     ]
    }
   ],
   "metadata": {}
  },
  {
   "cell_type": "markdown",
   "source": [
    "## Better to create a function"
   ],
   "metadata": {}
  },
  {
   "cell_type": "code",
   "execution_count": 170,
   "source": [
    "def amort_table(rate, years, payment_year, principal, start_date):\n",
    "  \"\"\"\n",
    "  Amort_table uses numpy_financial under the hood to provide am amortization table for your emis.\n",
    "\n",
    "  Args:\n",
    "    rate: in percentage, Eg -> `0.05 == 5%`\n",
    "    years: no. of years\n",
    "    payment_year: monthly interest = `12` or semi-annually = `2`\n",
    "    principal: total amount to be paid\n",
    "    start_date: `date(year, month, day)`\n",
    "\n",
    "  Returns:\n",
    "    DataFrame of EMI Payments\n",
    "  \"\"\"\n",
    "  # freq=\"MS\" Month Start\n",
    "  date_range = pd.date_range(start_date, periods=years*payment_year, freq=\"MS\")\n",
    "\n",
    "  # print(date_range)\n",
    "\n",
    "  df_emi = pd.DataFrame(index=date_range)\n",
    "  df_emi.reset_index(inplace=True)\n",
    "  df_emi.index += 1\n",
    "  df_emi.index.name = \"Period\"\n",
    "\n",
    "  df_emi[\"Interest_Pay\"] = npf.ipmt(rate/payment_year, df_emi.index, years*payment_year, principal)\n",
    "\n",
    "  df_emi[\"Principal_Pay\"] = npf.ppmt(rate/payment_year, df_emi.index, years*payment_year, principal)\n",
    "\n",
    "  # df_emi[\"Payment\"] = npf.pmt(rate/payment_year, years*payment_year, principal)\n",
    "\n",
    "  df_emi[\"Total_Pay\"] = df_emi[\"Interest_Pay\"] + df_emi[\"Principal_Pay\"]\n",
    "\n",
    "  return df_emi.loc[:, \"Interest_Pay\":]\n"
   ],
   "outputs": [],
   "metadata": {}
  },
  {
   "cell_type": "code",
   "execution_count": 171,
   "source": [
    "que1 = amort_table(0.04, 30, 12, -200000, date(2016, 1, 1))\n",
    "print(que1)"
   ],
   "outputs": [
    {
     "output_type": "stream",
     "name": "stdout",
     "text": [
      "        Interest_Pay  Principal_Pay   Total_Pay\n",
      "Period                                         \n",
      "1         666.666667     288.163924  954.830591\n",
      "2         665.706120     289.124471  954.830591\n",
      "3         664.742372     290.088219  954.830591\n",
      "4         663.775411     291.055180  954.830591\n",
      "5         662.805227     292.025364  954.830591\n",
      "...              ...            ...         ...\n",
      "356        15.755934     939.074657  954.830591\n",
      "357        12.625685     942.204905  954.830591\n",
      "358         9.485002     945.345589  954.830591\n",
      "359         6.333850     948.496740  954.830591\n",
      "360         3.172195     951.658396  954.830591\n",
      "\n",
      "[360 rows x 3 columns]\n"
     ]
    }
   ],
   "metadata": {}
  }
 ],
 "metadata": {
  "orig_nbformat": 4,
  "language_info": {
   "name": "python",
   "version": "3.9.7",
   "mimetype": "text/x-python",
   "codemirror_mode": {
    "name": "ipython",
    "version": 3
   },
   "pygments_lexer": "ipython3",
   "nbconvert_exporter": "python",
   "file_extension": ".py"
  },
  "kernelspec": {
   "name": "python3",
   "display_name": "Python 3.9.7 64-bit"
  },
  "interpreter": {
   "hash": "916dbcbb3f70747c44a77c7bcd40155683ae19c65e1c03b4aa3499c5328201f1"
  }
 },
 "nbformat": 4,
 "nbformat_minor": 2
}