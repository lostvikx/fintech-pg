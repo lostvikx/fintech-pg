{
 "cells": [
  {
   "cell_type": "code",
   "execution_count": 1,
   "source": [
    "test_str = \"This uses {2}, {0} {1}\".format(\"Hello\", \"world\", \"format\")\n",
    "test_str"
   ],
   "outputs": [
    {
     "output_type": "execute_result",
     "data": {
      "text/plain": [
       "'This uses format, Hello world'"
      ]
     },
     "metadata": {},
     "execution_count": 1
    }
   ],
   "metadata": {}
  },
  {
   "cell_type": "code",
   "execution_count": 2,
   "source": [
    "print(\"This is a test %s\" % \"string.\")\n",
    "print(\"My name is {name} and I like {hobby}, currently working on {prog_lang} language.\".format(name=\"Vikram\", hobby=\"programming & reading\", prog_lang=\"Python\"))\n"
   ],
   "outputs": [
    {
     "output_type": "stream",
     "name": "stdout",
     "text": [
      "This is a test string.\n",
      "My name is Vikram and I like programming & reading, currently working on Python language.\n"
     ]
    }
   ],
   "metadata": {}
  },
  {
   "cell_type": "markdown",
   "source": [
    "These string formating methods can be used for quality checks, as they clearly mention the type."
   ],
   "metadata": {}
  },
  {
   "cell_type": "code",
   "execution_count": 3,
   "source": [
    "# {index:space(type d:decimal, f:float)}\n",
    "print(\"ID: {0:4d}, Percentage: {1:10.2f}%\".format(12, 75.75372))\n",
    "print(\"ID: {0:4d}, Percentage: {1:10.0f}%\".format(189, 38.129))\n",
    "print(\"ID: {0:4d}, Percentage: {1:10.3f}%\".format(253, 59.819))\n",
    "print(\"ID: {0:4d}, Percentage: {1:10.5f}%\".format(10, 70.1010922))\n",
    "print(\"ID: {0:4d}, Percentage: {1:10.1f}%\".format(19, 85.182))"
   ],
   "outputs": [
    {
     "output_type": "stream",
     "name": "stdout",
     "text": [
      "ID:   12, Percentage:      75.75%\n",
      "ID:  189, Percentage:         38%\n",
      "ID:  253, Percentage:     59.819%\n",
      "ID:   10, Percentage:   70.10109%\n",
      "ID:   19, Percentage:       85.2%\n"
     ]
    }
   ],
   "metadata": {}
  },
  {
   "cell_type": "code",
   "execution_count": 14,
   "source": [
    "passwrd = input(\"Enter your password: \")\n",
    "print(f\"Ah! Now everyone know your password is \\\"{passwrd}\\\"\")"
   ],
   "outputs": [
    {
     "output_type": "stream",
     "name": "stdout",
     "text": [
      "Ah! Now everyone know your password is \"yoloboi\"\n"
     ]
    }
   ],
   "metadata": {}
  },
  {
   "cell_type": "code",
   "execution_count": 15,
   "source": [
    "try:\n",
    "  score = int(input(\"Enter your score: \"))\n",
    "  if score > 50:\n",
    "    print(\"You Pass!\")\n",
    "  else:\n",
    "    print(\"Failed!\")\n",
    "except:\n",
    "  print(\"Please enter a number!\")"
   ],
   "outputs": [
    {
     "output_type": "stream",
     "name": "stdout",
     "text": [
      "You Pass!\n"
     ]
    }
   ],
   "metadata": {}
  },
  {
   "cell_type": "code",
   "execution_count": 12,
   "source": [
    "dbPass = \"jailbreak\"\n",
    "passInp = \"\"\n",
    "\n",
    "while dbPass != passInp:\n",
    "  passInp = input(\"Enter db password: \")\n",
    "\n",
    "print(\"You're going to jail!\")"
   ],
   "outputs": [
    {
     "output_type": "stream",
     "name": "stdout",
     "text": [
      "You're going to jail!\n"
     ]
    }
   ],
   "metadata": {}
  },
  {
   "cell_type": "code",
   "execution_count": 3,
   "source": [
    "my_pass = \"yoloboi\"\n",
    "counter = 0\n",
    "\n",
    "while True:\n",
    "  pass_inp = input(\"Enter Password: \")\n",
    "\n",
    "  if pass_inp == my_pass:\n",
    "    print(\"Correct Password!\")\n",
    "    break\n",
    "  else:\n",
    "    counter += 1\n",
    "    print(f\"{3-counter} Attempts Left!\")\n",
    "\n",
    "    if counter >= 3:\n",
    "      print(\"Try Again Later!\")\n",
    "      break"
   ],
   "outputs": [
    {
     "output_type": "stream",
     "name": "stdout",
     "text": [
      "Correct Password!\n"
     ]
    }
   ],
   "metadata": {}
  },
  {
   "cell_type": "code",
   "execution_count": 12,
   "source": [
    "for i in range(5):\n",
    "  print(i)"
   ],
   "outputs": [
    {
     "output_type": "stream",
     "name": "stdout",
     "text": [
      "0\n",
      "1\n",
      "2\n",
      "3\n",
      "4\n"
     ]
    }
   ],
   "metadata": {}
  },
  {
   "cell_type": "code",
   "execution_count": 15,
   "source": [
    "for i in range(3, 30, 3):\n",
    "  print(i)"
   ],
   "outputs": [
    {
     "output_type": "stream",
     "name": "stdout",
     "text": [
      "3\n",
      "6\n",
      "9\n",
      "12\n",
      "15\n",
      "18\n",
      "21\n",
      "24\n",
      "27\n"
     ]
    }
   ],
   "metadata": {}
  },
  {
   "cell_type": "markdown",
   "source": [
    "Create a loop as per input of number of students and save their name in a list."
   ],
   "metadata": {}
  },
  {
   "cell_type": "code",
   "execution_count": 20,
   "source": [
    "stud_num = int(input(\"Enter the number of students: \"))\n",
    "stud_names = []\n",
    "\n",
    "for i in range(stud_num):\n",
    "  stud_names.append(input(\"Enter student name: \"))\n",
    "\n",
    "for name in stud_names:\n",
    "  print(name)\n",
    "\n",
    "print(\"------\")\n",
    "# The name variable takes the last value of the loop!\n",
    "print(name)"
   ],
   "outputs": [
    {
     "output_type": "stream",
     "name": "stdout",
     "text": [
      "Vikram\n",
      "Emma\n",
      "Dani\n",
      "------\n",
      "Dani\n"
     ]
    }
   ],
   "metadata": {}
  },
  {
   "cell_type": "code",
   "execution_count": 23,
   "source": [
    "ppl_num = int(input(\"Enter the number of people invited to the party: \"))\n",
    "party_ppl = []\n",
    "\n",
    "for i in range(ppl_num):\n",
    "  party_ppl.append(input(\"Enter Name: \"))\n",
    "\n",
    "check_name = input(\"Check Name: \")\n",
    "\n",
    "if check_name in party_ppl:\n",
    "  print(\"Party Time!\")\n",
    "else:\n",
    "  print(\"Not Invited!\")"
   ],
   "outputs": [
    {
     "output_type": "stream",
     "name": "stdout",
     "text": [
      "Party Time!\n"
     ]
    }
   ],
   "metadata": {}
  },
  {
   "cell_type": "code",
   "execution_count": 24,
   "source": [
    "invited_ppl = [\"Aman\", \"Vikram\", \"Tom\", \"Jimmy\"]\n",
    "\n",
    "arrived_ppl = [\"Kate\", \"Vikram\", \"Tom\", \"Paul\", \"Aman\"]\n",
    "\n",
    "for name in arrived_ppl:\n",
    "  if name in invited_ppl:\n",
    "    print(f\"Welcome {name}!\")\n",
    "  else:\n",
    "    print(f\"Go Home {name}!\")"
   ],
   "outputs": [
    {
     "output_type": "stream",
     "name": "stdout",
     "text": [
      "Go Home Kate\n",
      "Welcome Vikram!\n",
      "Welcome Tom!\n",
      "Go Home Paul\n",
      "Welcome Aman!\n"
     ]
    }
   ],
   "metadata": {}
  },
  {
   "cell_type": "code",
   "execution_count": 29,
   "source": [
    "# Add tuple test\n",
    "coolTup = (\"Vikram\", \"Emma\", \"Jim\")\n",
    "\n",
    "print((\"Mia\", \"Dani\") + coolTup)"
   ],
   "outputs": [
    {
     "output_type": "stream",
     "name": "stdout",
     "text": [
      "('Mia', 'Dani', 'Vikram', 'Emma', 'Jim')\n"
     ]
    }
   ],
   "metadata": {}
  }
 ],
 "metadata": {
  "orig_nbformat": 4,
  "language_info": {
   "name": "python",
   "version": "3.9.7",
   "mimetype": "text/x-python",
   "codemirror_mode": {
    "name": "ipython",
    "version": 3
   },
   "pygments_lexer": "ipython3",
   "nbconvert_exporter": "python",
   "file_extension": ".py"
  },
  "kernelspec": {
   "name": "python3",
   "display_name": "Python 3.9.7 64-bit"
  },
  "interpreter": {
   "hash": "916dbcbb3f70747c44a77c7bcd40155683ae19c65e1c03b4aa3499c5328201f1"
  }
 },
 "nbformat": 4,
 "nbformat_minor": 2
}