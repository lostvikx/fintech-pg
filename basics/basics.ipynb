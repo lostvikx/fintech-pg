{
 "cells": [
  {
   "cell_type": "code",
   "execution_count": null,
   "source": [
    "print(\"Hello world\")"
   ],
   "outputs": [],
   "metadata": {}
  },
  {
   "cell_type": "code",
   "execution_count": null,
   "source": [
    "nums = [1, 2, 3, 4]\n",
    "print(nums[-2:])"
   ],
   "outputs": [],
   "metadata": {}
  },
  {
   "cell_type": "code",
   "execution_count": 1,
   "source": [
    "import pandas as pd"
   ],
   "outputs": [],
   "metadata": {}
  },
  {
   "cell_type": "code",
   "execution_count": null,
   "source": [
    "a = pd.Series([1, 2, 3, 4])\n",
    "print(a)"
   ],
   "outputs": [],
   "metadata": {}
  },
  {
   "cell_type": "code",
   "execution_count": null,
   "source": [
    "vik = [50, 48, 49]\n",
    "john = [39, 40, 45]\n",
    "\n",
    "df = pd.DataFrame({\"Vikram\": vik, \"John\": john}, index=[\"maths\", \"eco\", \"cs\"])\n",
    "\n",
    "print(df.index) # Returns the indices\n",
    "print(df.columns) # Returns column names"
   ],
   "outputs": [],
   "metadata": {}
  },
  {
   "cell_type": "code",
   "execution_count": null,
   "source": [
    "df[\"Vikram\"]"
   ],
   "outputs": [],
   "metadata": {}
  },
  {
   "cell_type": "markdown",
   "source": [
    "## An example of the usage of dataframes to create a table."
   ],
   "metadata": {}
  },
  {
   "cell_type": "code",
   "execution_count": 3,
   "source": [
    "stud_names = [\"Vikram\", \"John\", \"Emma\", \"David\", \"Luke\"]\n",
    "sub1 = [40, 39, 47, 30, 31]\n",
    "sub2 = [43, 32, 49, 21, 25]\n",
    "sub3 = [44, 37, 44, 32, 14]\n",
    "\n",
    "test_df = pd.DataFrame({\n",
    "  \"Name\": stud_names, \n",
    "  \"CS\": sub1,\n",
    "  \"Math\": sub2,\n",
    "  \"Eco\": sub3\n",
    "})\n",
    "\n",
    "# entire data-frame\n",
    "print(test_df)\n",
    "# Get all rows of Math column\n",
    "# test_df.loc[:, \"Math\"]\n",
    "# Get all rows of first 3 coulmns\n",
    "# test_df.iloc[:, :3]"
   ],
   "outputs": [
    {
     "output_type": "stream",
     "name": "stdout",
     "text": [
      "     Name  CS  Math  Eco\n",
      "0  Vikram  40    43   44\n",
      "1    John  39    32   37\n",
      "2    Emma  47    49   44\n",
      "3   David  30    21   32\n",
      "4    Luke  31    25   14\n"
     ]
    }
   ],
   "metadata": {}
  }
 ],
 "metadata": {
  "orig_nbformat": 4,
  "language_info": {
   "name": "python",
   "version": "3.9.7",
   "mimetype": "text/x-python",
   "codemirror_mode": {
    "name": "ipython",
    "version": 3
   },
   "pygments_lexer": "ipython3",
   "nbconvert_exporter": "python",
   "file_extension": ".py"
  },
  "kernelspec": {
   "name": "python3",
   "display_name": "Python 3.9.7 64-bit"
  },
  "interpreter": {
   "hash": "916dbcbb3f70747c44a77c7bcd40155683ae19c65e1c03b4aa3499c5328201f1"
  }
 },
 "nbformat": 4,
 "nbformat_minor": 2
}