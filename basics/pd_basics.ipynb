{
 "cells": [
  {
   "cell_type": "code",
   "execution_count": 1,
   "source": [
    "import pandas as pd\n",
    "import numpy as np"
   ],
   "outputs": [],
   "metadata": {}
  },
  {
   "cell_type": "code",
   "execution_count": 2,
   "source": [
    "s = pd.Series(np.random.randn(5), index=[\"a\", \"b\", \"c\", \"d\", \"e\"])"
   ],
   "outputs": [],
   "metadata": {}
  },
  {
   "cell_type": "code",
   "execution_count": 3,
   "source": [
    "s[s > 0.5]"
   ],
   "outputs": [
    {
     "output_type": "execute_result",
     "data": {
      "text/plain": [
       "a    0.686408\n",
       "c    0.701709\n",
       "dtype: float64"
      ]
     },
     "metadata": {},
     "execution_count": 3
    }
   ],
   "metadata": {}
  },
  {
   "cell_type": "code",
   "execution_count": 4,
   "source": [
    "s[[2, 4]]"
   ],
   "outputs": [
    {
     "output_type": "execute_result",
     "data": {
      "text/plain": [
       "c    0.701709\n",
       "e   -0.665657\n",
       "dtype: float64"
      ]
     },
     "metadata": {},
     "execution_count": 4
    }
   ],
   "metadata": {}
  },
  {
   "cell_type": "code",
   "execution_count": 5,
   "source": [
    "np.exp(s)"
   ],
   "outputs": [
    {
     "output_type": "execute_result",
     "data": {
      "text/plain": [
       "a    1.986568\n",
       "b    0.228883\n",
       "c    2.017197\n",
       "d    0.984710\n",
       "e    0.513936\n",
       "dtype: float64"
      ]
     },
     "metadata": {},
     "execution_count": 5
    }
   ],
   "metadata": {}
  },
  {
   "cell_type": "code",
   "execution_count": 6,
   "source": [
    "s[\"a\"]"
   ],
   "outputs": [
    {
     "output_type": "execute_result",
     "data": {
      "text/plain": [
       "0.6864083920883969"
      ]
     },
     "metadata": {},
     "execution_count": 6
    }
   ],
   "metadata": {}
  },
  {
   "cell_type": "code",
   "execution_count": 7,
   "source": [
    "# s[\"f\"] # KeyError except\n",
    "\n",
    "# Use the get method instead\n",
    "s.get(\"f\", np.nan)"
   ],
   "outputs": [
    {
     "output_type": "execute_result",
     "data": {
      "text/plain": [
       "nan"
      ]
     },
     "metadata": {},
     "execution_count": 7
    }
   ],
   "metadata": {}
  },
  {
   "cell_type": "code",
   "execution_count": 22,
   "source": [
    "s2 = pd.DataFrame(np.random.rand(5, 2))\n",
    "s2"
   ],
   "outputs": [
    {
     "output_type": "execute_result",
     "data": {
      "text/html": [
       "<div>\n",
       "<style scoped>\n",
       "    .dataframe tbody tr th:only-of-type {\n",
       "        vertical-align: middle;\n",
       "    }\n",
       "\n",
       "    .dataframe tbody tr th {\n",
       "        vertical-align: top;\n",
       "    }\n",
       "\n",
       "    .dataframe thead th {\n",
       "        text-align: right;\n",
       "    }\n",
       "</style>\n",
       "<table border=\"1\" class=\"dataframe\">\n",
       "  <thead>\n",
       "    <tr style=\"text-align: right;\">\n",
       "      <th></th>\n",
       "      <th>0</th>\n",
       "      <th>1</th>\n",
       "    </tr>\n",
       "  </thead>\n",
       "  <tbody>\n",
       "    <tr>\n",
       "      <th>0</th>\n",
       "      <td>0.218118</td>\n",
       "      <td>0.415615</td>\n",
       "    </tr>\n",
       "    <tr>\n",
       "      <th>1</th>\n",
       "      <td>0.046772</td>\n",
       "      <td>0.743838</td>\n",
       "    </tr>\n",
       "    <tr>\n",
       "      <th>2</th>\n",
       "      <td>0.163203</td>\n",
       "      <td>0.208114</td>\n",
       "    </tr>\n",
       "    <tr>\n",
       "      <th>3</th>\n",
       "      <td>0.557837</td>\n",
       "      <td>0.519554</td>\n",
       "    </tr>\n",
       "    <tr>\n",
       "      <th>4</th>\n",
       "      <td>0.214126</td>\n",
       "      <td>0.081832</td>\n",
       "    </tr>\n",
       "  </tbody>\n",
       "</table>\n",
       "</div>"
      ],
      "text/plain": [
       "          0         1\n",
       "0  0.218118  0.415615\n",
       "1  0.046772  0.743838\n",
       "2  0.163203  0.208114\n",
       "3  0.557837  0.519554\n",
       "4  0.214126  0.081832"
      ]
     },
     "metadata": {},
     "execution_count": 22
    }
   ],
   "metadata": {}
  },
  {
   "cell_type": "markdown",
   "source": [
    "# From dict of Series or dicts\n",
    "\n",
    "The resulting **index** will be the **union** of the indexes of the various Series. If there are any nested dicts, these will first be converted to Series. If no columns are passed, the columns will be the ordered list of dict keys."
   ],
   "metadata": {}
  },
  {
   "cell_type": "code",
   "execution_count": 54,
   "source": [
    "d = {\n",
    "  \"one\": pd.Series(np.random.randn(3), index=[\"a\", \"b\", \"c\"]),\n",
    "  \"two\": pd.Series(np.random.randn(4), index=[\"a\", \"b\", \"c\", \"d\"])\n",
    "}\n",
    "\n",
    "df = pd.DataFrame(d)\n",
    "df"
   ],
   "outputs": [
    {
     "output_type": "execute_result",
     "data": {
      "text/html": [
       "<div>\n",
       "<style scoped>\n",
       "    .dataframe tbody tr th:only-of-type {\n",
       "        vertical-align: middle;\n",
       "    }\n",
       "\n",
       "    .dataframe tbody tr th {\n",
       "        vertical-align: top;\n",
       "    }\n",
       "\n",
       "    .dataframe thead th {\n",
       "        text-align: right;\n",
       "    }\n",
       "</style>\n",
       "<table border=\"1\" class=\"dataframe\">\n",
       "  <thead>\n",
       "    <tr style=\"text-align: right;\">\n",
       "      <th></th>\n",
       "      <th>one</th>\n",
       "      <th>two</th>\n",
       "    </tr>\n",
       "  </thead>\n",
       "  <tbody>\n",
       "    <tr>\n",
       "      <th>a</th>\n",
       "      <td>-0.732758</td>\n",
       "      <td>0.727160</td>\n",
       "    </tr>\n",
       "    <tr>\n",
       "      <th>b</th>\n",
       "      <td>0.827219</td>\n",
       "      <td>0.638470</td>\n",
       "    </tr>\n",
       "    <tr>\n",
       "      <th>c</th>\n",
       "      <td>0.223872</td>\n",
       "      <td>0.028091</td>\n",
       "    </tr>\n",
       "    <tr>\n",
       "      <th>d</th>\n",
       "      <td>NaN</td>\n",
       "      <td>-0.972016</td>\n",
       "    </tr>\n",
       "  </tbody>\n",
       "</table>\n",
       "</div>"
      ],
      "text/plain": [
       "        one       two\n",
       "a -0.732758  0.727160\n",
       "b  0.827219  0.638470\n",
       "c  0.223872  0.028091\n",
       "d       NaN -0.972016"
      ]
     },
     "metadata": {},
     "execution_count": 54
    }
   ],
   "metadata": {}
  },
  {
   "cell_type": "code",
   "execution_count": 16,
   "source": [
    "pd.DataFrame(d, index=[\"d\", \"b\", \"a\"])"
   ],
   "outputs": [
    {
     "output_type": "execute_result",
     "data": {
      "text/html": [
       "<div>\n",
       "<style scoped>\n",
       "    .dataframe tbody tr th:only-of-type {\n",
       "        vertical-align: middle;\n",
       "    }\n",
       "\n",
       "    .dataframe tbody tr th {\n",
       "        vertical-align: top;\n",
       "    }\n",
       "\n",
       "    .dataframe thead th {\n",
       "        text-align: right;\n",
       "    }\n",
       "</style>\n",
       "<table border=\"1\" class=\"dataframe\">\n",
       "  <thead>\n",
       "    <tr style=\"text-align: right;\">\n",
       "      <th></th>\n",
       "      <th>one</th>\n",
       "      <th>two</th>\n",
       "    </tr>\n",
       "  </thead>\n",
       "  <tbody>\n",
       "    <tr>\n",
       "      <th>d</th>\n",
       "      <td>NaN</td>\n",
       "      <td>0.665600</td>\n",
       "    </tr>\n",
       "    <tr>\n",
       "      <th>b</th>\n",
       "      <td>0.618542</td>\n",
       "      <td>-1.215648</td>\n",
       "    </tr>\n",
       "    <tr>\n",
       "      <th>a</th>\n",
       "      <td>0.731354</td>\n",
       "      <td>-0.434867</td>\n",
       "    </tr>\n",
       "  </tbody>\n",
       "</table>\n",
       "</div>"
      ],
      "text/plain": [
       "        one       two\n",
       "d       NaN  0.665600\n",
       "b  0.618542 -1.215648\n",
       "a  0.731354 -0.434867"
      ]
     },
     "metadata": {},
     "execution_count": 16
    }
   ],
   "metadata": {}
  },
  {
   "cell_type": "code",
   "execution_count": 19,
   "source": [
    "pd.DataFrame(d, index=[\"d\", \"a\"], columns=[\"two\", \"three\"])"
   ],
   "outputs": [
    {
     "output_type": "execute_result",
     "data": {
      "text/html": [
       "<div>\n",
       "<style scoped>\n",
       "    .dataframe tbody tr th:only-of-type {\n",
       "        vertical-align: middle;\n",
       "    }\n",
       "\n",
       "    .dataframe tbody tr th {\n",
       "        vertical-align: top;\n",
       "    }\n",
       "\n",
       "    .dataframe thead th {\n",
       "        text-align: right;\n",
       "    }\n",
       "</style>\n",
       "<table border=\"1\" class=\"dataframe\">\n",
       "  <thead>\n",
       "    <tr style=\"text-align: right;\">\n",
       "      <th></th>\n",
       "      <th>two</th>\n",
       "      <th>three</th>\n",
       "    </tr>\n",
       "  </thead>\n",
       "  <tbody>\n",
       "    <tr>\n",
       "      <th>d</th>\n",
       "      <td>0.665600</td>\n",
       "      <td>NaN</td>\n",
       "    </tr>\n",
       "    <tr>\n",
       "      <th>a</th>\n",
       "      <td>-0.434867</td>\n",
       "      <td>NaN</td>\n",
       "    </tr>\n",
       "  </tbody>\n",
       "</table>\n",
       "</div>"
      ],
      "text/plain": [
       "        two three\n",
       "d  0.665600   NaN\n",
       "a -0.434867   NaN"
      ]
     },
     "metadata": {},
     "execution_count": 19
    }
   ],
   "metadata": {}
  },
  {
   "cell_type": "code",
   "execution_count": 20,
   "source": [
    "df.index"
   ],
   "outputs": [
    {
     "output_type": "execute_result",
     "data": {
      "text/plain": [
       "Index(['a', 'b', 'c', 'd'], dtype='object')"
      ]
     },
     "metadata": {},
     "execution_count": 20
    }
   ],
   "metadata": {}
  },
  {
   "cell_type": "code",
   "execution_count": 21,
   "source": [
    "df.columns"
   ],
   "outputs": [
    {
     "output_type": "execute_result",
     "data": {
      "text/plain": [
       "Index(['one', 'two'], dtype='object')"
      ]
     },
     "metadata": {},
     "execution_count": 21
    }
   ],
   "metadata": {}
  },
  {
   "cell_type": "markdown",
   "source": [
    "### Note: When passing two or more arrays or ndarrays, make sure that their length is the same"
   ],
   "metadata": {}
  },
  {
   "cell_type": "code",
   "execution_count": 28,
   "source": [
    "pd.DataFrame({\"one\": np.random.rand(3), \"two\": np.random.rand(3)})"
   ],
   "outputs": [
    {
     "output_type": "execute_result",
     "data": {
      "text/html": [
       "<div>\n",
       "<style scoped>\n",
       "    .dataframe tbody tr th:only-of-type {\n",
       "        vertical-align: middle;\n",
       "    }\n",
       "\n",
       "    .dataframe tbody tr th {\n",
       "        vertical-align: top;\n",
       "    }\n",
       "\n",
       "    .dataframe thead th {\n",
       "        text-align: right;\n",
       "    }\n",
       "</style>\n",
       "<table border=\"1\" class=\"dataframe\">\n",
       "  <thead>\n",
       "    <tr style=\"text-align: right;\">\n",
       "      <th></th>\n",
       "      <th>one</th>\n",
       "      <th>two</th>\n",
       "    </tr>\n",
       "  </thead>\n",
       "  <tbody>\n",
       "    <tr>\n",
       "      <th>0</th>\n",
       "      <td>0.237920</td>\n",
       "      <td>0.036702</td>\n",
       "    </tr>\n",
       "    <tr>\n",
       "      <th>1</th>\n",
       "      <td>0.994622</td>\n",
       "      <td>0.635829</td>\n",
       "    </tr>\n",
       "    <tr>\n",
       "      <th>2</th>\n",
       "      <td>0.300992</td>\n",
       "      <td>0.114898</td>\n",
       "    </tr>\n",
       "  </tbody>\n",
       "</table>\n",
       "</div>"
      ],
      "text/plain": [
       "        one       two\n",
       "0  0.237920  0.036702\n",
       "1  0.994622  0.635829\n",
       "2  0.300992  0.114898"
      ]
     },
     "metadata": {},
     "execution_count": 28
    }
   ],
   "metadata": {}
  },
  {
   "cell_type": "code",
   "execution_count": 53,
   "source": [
    "data2 = [{\"a\": 1, \"b\": 2}, {\"a\": 5, \"b\": 10, \"c\": 20}]\n",
    "pd.DataFrame(data2, index=[\"first\", \"second\"])"
   ],
   "outputs": [
    {
     "output_type": "execute_result",
     "data": {
      "text/html": [
       "<div>\n",
       "<style scoped>\n",
       "    .dataframe tbody tr th:only-of-type {\n",
       "        vertical-align: middle;\n",
       "    }\n",
       "\n",
       "    .dataframe tbody tr th {\n",
       "        vertical-align: top;\n",
       "    }\n",
       "\n",
       "    .dataframe thead th {\n",
       "        text-align: right;\n",
       "    }\n",
       "</style>\n",
       "<table border=\"1\" class=\"dataframe\">\n",
       "  <thead>\n",
       "    <tr style=\"text-align: right;\">\n",
       "      <th></th>\n",
       "      <th>a</th>\n",
       "      <th>b</th>\n",
       "      <th>c</th>\n",
       "    </tr>\n",
       "  </thead>\n",
       "  <tbody>\n",
       "    <tr>\n",
       "      <th>first</th>\n",
       "      <td>1</td>\n",
       "      <td>2</td>\n",
       "      <td>NaN</td>\n",
       "    </tr>\n",
       "    <tr>\n",
       "      <th>second</th>\n",
       "      <td>5</td>\n",
       "      <td>10</td>\n",
       "      <td>20.0</td>\n",
       "    </tr>\n",
       "  </tbody>\n",
       "</table>\n",
       "</div>"
      ],
      "text/plain": [
       "        a   b     c\n",
       "first   1   2   NaN\n",
       "second  5  10  20.0"
      ]
     },
     "metadata": {},
     "execution_count": 53
    }
   ],
   "metadata": {}
  },
  {
   "cell_type": "code",
   "execution_count": 55,
   "source": [
    "df.insert(1, \"negative\", df[\"one\"] < 0)"
   ],
   "outputs": [],
   "metadata": {}
  },
  {
   "cell_type": "code",
   "execution_count": 56,
   "source": [
    "# [fn for fn in dir(df) if not fn.startswith(\"_\")]\n",
    "\n",
    "df[\"three\"] = df[\"one\"] * 10\n",
    "df"
   ],
   "outputs": [
    {
     "output_type": "execute_result",
     "data": {
      "text/html": [
       "<div>\n",
       "<style scoped>\n",
       "    .dataframe tbody tr th:only-of-type {\n",
       "        vertical-align: middle;\n",
       "    }\n",
       "\n",
       "    .dataframe tbody tr th {\n",
       "        vertical-align: top;\n",
       "    }\n",
       "\n",
       "    .dataframe thead th {\n",
       "        text-align: right;\n",
       "    }\n",
       "</style>\n",
       "<table border=\"1\" class=\"dataframe\">\n",
       "  <thead>\n",
       "    <tr style=\"text-align: right;\">\n",
       "      <th></th>\n",
       "      <th>one</th>\n",
       "      <th>negative</th>\n",
       "      <th>two</th>\n",
       "      <th>three</th>\n",
       "    </tr>\n",
       "  </thead>\n",
       "  <tbody>\n",
       "    <tr>\n",
       "      <th>a</th>\n",
       "      <td>-0.732758</td>\n",
       "      <td>True</td>\n",
       "      <td>0.727160</td>\n",
       "      <td>-7.327579</td>\n",
       "    </tr>\n",
       "    <tr>\n",
       "      <th>b</th>\n",
       "      <td>0.827219</td>\n",
       "      <td>False</td>\n",
       "      <td>0.638470</td>\n",
       "      <td>8.272193</td>\n",
       "    </tr>\n",
       "    <tr>\n",
       "      <th>c</th>\n",
       "      <td>0.223872</td>\n",
       "      <td>False</td>\n",
       "      <td>0.028091</td>\n",
       "      <td>2.238715</td>\n",
       "    </tr>\n",
       "    <tr>\n",
       "      <th>d</th>\n",
       "      <td>NaN</td>\n",
       "      <td>False</td>\n",
       "      <td>-0.972016</td>\n",
       "      <td>NaN</td>\n",
       "    </tr>\n",
       "  </tbody>\n",
       "</table>\n",
       "</div>"
      ],
      "text/plain": [
       "        one  negative       two     three\n",
       "a -0.732758      True  0.727160 -7.327579\n",
       "b  0.827219     False  0.638470  8.272193\n",
       "c  0.223872     False  0.028091  2.238715\n",
       "d       NaN     False -0.972016       NaN"
      ]
     },
     "metadata": {},
     "execution_count": 56
    }
   ],
   "metadata": {}
  },
  {
   "cell_type": "code",
   "execution_count": 61,
   "source": [
    "# Use assign method: returns a copy of the df\n",
    "\n",
    "df.assign(ratio=lambda x: (x[\"two\"] / x[\"one\"] - 5))"
   ],
   "outputs": [
    {
     "output_type": "execute_result",
     "data": {
      "text/html": [
       "<div>\n",
       "<style scoped>\n",
       "    .dataframe tbody tr th:only-of-type {\n",
       "        vertical-align: middle;\n",
       "    }\n",
       "\n",
       "    .dataframe tbody tr th {\n",
       "        vertical-align: top;\n",
       "    }\n",
       "\n",
       "    .dataframe thead th {\n",
       "        text-align: right;\n",
       "    }\n",
       "</style>\n",
       "<table border=\"1\" class=\"dataframe\">\n",
       "  <thead>\n",
       "    <tr style=\"text-align: right;\">\n",
       "      <th></th>\n",
       "      <th>one</th>\n",
       "      <th>negative</th>\n",
       "      <th>two</th>\n",
       "      <th>three</th>\n",
       "      <th>ratio</th>\n",
       "    </tr>\n",
       "  </thead>\n",
       "  <tbody>\n",
       "    <tr>\n",
       "      <th>a</th>\n",
       "      <td>-0.732758</td>\n",
       "      <td>True</td>\n",
       "      <td>0.727160</td>\n",
       "      <td>-7.327579</td>\n",
       "      <td>-5.992360</td>\n",
       "    </tr>\n",
       "    <tr>\n",
       "      <th>b</th>\n",
       "      <td>0.827219</td>\n",
       "      <td>False</td>\n",
       "      <td>0.638470</td>\n",
       "      <td>8.272193</td>\n",
       "      <td>-4.228173</td>\n",
       "    </tr>\n",
       "    <tr>\n",
       "      <th>c</th>\n",
       "      <td>0.223872</td>\n",
       "      <td>False</td>\n",
       "      <td>0.028091</td>\n",
       "      <td>2.238715</td>\n",
       "      <td>-4.874524</td>\n",
       "    </tr>\n",
       "    <tr>\n",
       "      <th>d</th>\n",
       "      <td>NaN</td>\n",
       "      <td>False</td>\n",
       "      <td>-0.972016</td>\n",
       "      <td>NaN</td>\n",
       "      <td>NaN</td>\n",
       "    </tr>\n",
       "  </tbody>\n",
       "</table>\n",
       "</div>"
      ],
      "text/plain": [
       "        one  negative       two     three     ratio\n",
       "a -0.732758      True  0.727160 -7.327579 -5.992360\n",
       "b  0.827219     False  0.638470  8.272193 -4.228173\n",
       "c  0.223872     False  0.028091  2.238715 -4.874524\n",
       "d       NaN     False -0.972016       NaN       NaN"
      ]
     },
     "metadata": {},
     "execution_count": 61
    }
   ],
   "metadata": {}
  },
  {
   "cell_type": "code",
   "execution_count": 62,
   "source": [
    "help(df.query)"
   ],
   "outputs": [
    {
     "output_type": "stream",
     "name": "stdout",
     "text": [
      "Help on method query in module pandas.core.frame:\n",
      "\n",
      "query(expr: 'str', inplace: 'bool' = False, **kwargs) method of pandas.core.frame.DataFrame instance\n",
      "    Query the columns of a DataFrame with a boolean expression.\n",
      "    \n",
      "    Parameters\n",
      "    ----------\n",
      "    expr : str\n",
      "        The query string to evaluate.\n",
      "    \n",
      "        You can refer to variables\n",
      "        in the environment by prefixing them with an '@' character like\n",
      "        ``@a + b``.\n",
      "    \n",
      "        You can refer to column names that are not valid Python variable names\n",
      "        by surrounding them in backticks. Thus, column names containing spaces\n",
      "        or punctuations (besides underscores) or starting with digits must be\n",
      "        surrounded by backticks. (For example, a column named \"Area (cm^2)\" would\n",
      "        be referenced as ```Area (cm^2)```). Column names which are Python keywords\n",
      "        (like \"list\", \"for\", \"import\", etc) cannot be used.\n",
      "    \n",
      "        For example, if one of your columns is called ``a a`` and you want\n",
      "        to sum it with ``b``, your query should be ```a a` + b``.\n",
      "    \n",
      "        .. versionadded:: 0.25.0\n",
      "            Backtick quoting introduced.\n",
      "    \n",
      "        .. versionadded:: 1.0.0\n",
      "            Expanding functionality of backtick quoting for more than only spaces.\n",
      "    \n",
      "    inplace : bool\n",
      "        Whether the query should modify the data in place or return\n",
      "        a modified copy.\n",
      "    **kwargs\n",
      "        See the documentation for :func:`eval` for complete details\n",
      "        on the keyword arguments accepted by :meth:`DataFrame.query`.\n",
      "    \n",
      "    Returns\n",
      "    -------\n",
      "    DataFrame or None\n",
      "        DataFrame resulting from the provided query expression or\n",
      "        None if ``inplace=True``.\n",
      "    \n",
      "    See Also\n",
      "    --------\n",
      "    eval : Evaluate a string describing operations on\n",
      "        DataFrame columns.\n",
      "    DataFrame.eval : Evaluate a string describing operations on\n",
      "        DataFrame columns.\n",
      "    \n",
      "    Notes\n",
      "    -----\n",
      "    The result of the evaluation of this expression is first passed to\n",
      "    :attr:`DataFrame.loc` and if that fails because of a\n",
      "    multidimensional key (e.g., a DataFrame) then the result will be passed\n",
      "    to :meth:`DataFrame.__getitem__`.\n",
      "    \n",
      "    This method uses the top-level :func:`eval` function to\n",
      "    evaluate the passed query.\n",
      "    \n",
      "    The :meth:`~pandas.DataFrame.query` method uses a slightly\n",
      "    modified Python syntax by default. For example, the ``&`` and ``|``\n",
      "    (bitwise) operators have the precedence of their boolean cousins,\n",
      "    :keyword:`and` and :keyword:`or`. This *is* syntactically valid Python,\n",
      "    however the semantics are different.\n",
      "    \n",
      "    You can change the semantics of the expression by passing the keyword\n",
      "    argument ``parser='python'``. This enforces the same semantics as\n",
      "    evaluation in Python space. Likewise, you can pass ``engine='python'``\n",
      "    to evaluate an expression using Python itself as a backend. This is not\n",
      "    recommended as it is inefficient compared to using ``numexpr`` as the\n",
      "    engine.\n",
      "    \n",
      "    The :attr:`DataFrame.index` and\n",
      "    :attr:`DataFrame.columns` attributes of the\n",
      "    :class:`~pandas.DataFrame` instance are placed in the query namespace\n",
      "    by default, which allows you to treat both the index and columns of the\n",
      "    frame as a column in the frame.\n",
      "    The identifier ``index`` is used for the frame index; you can also\n",
      "    use the name of the index to identify it in a query. Please note that\n",
      "    Python keywords may not be used as identifiers.\n",
      "    \n",
      "    For further details and examples see the ``query`` documentation in\n",
      "    :ref:`indexing <indexing.query>`.\n",
      "    \n",
      "    *Backtick quoted variables*\n",
      "    \n",
      "    Backtick quoted variables are parsed as literal Python code and\n",
      "    are converted internally to a Python valid identifier.\n",
      "    This can lead to the following problems.\n",
      "    \n",
      "    During parsing a number of disallowed characters inside the backtick\n",
      "    quoted string are replaced by strings that are allowed as a Python identifier.\n",
      "    These characters include all operators in Python, the space character, the\n",
      "    question mark, the exclamation mark, the dollar sign, and the euro sign.\n",
      "    For other characters that fall outside the ASCII range (U+0001..U+007F)\n",
      "    and those that are not further specified in PEP 3131,\n",
      "    the query parser will raise an error.\n",
      "    This excludes whitespace different than the space character,\n",
      "    but also the hashtag (as it is used for comments) and the backtick\n",
      "    itself (backtick can also not be escaped).\n",
      "    \n",
      "    In a special case, quotes that make a pair around a backtick can\n",
      "    confuse the parser.\n",
      "    For example, ```it's` > `that's``` will raise an error,\n",
      "    as it forms a quoted string (``'s > `that'``) with a backtick inside.\n",
      "    \n",
      "    See also the Python documentation about lexical analysis\n",
      "    (https://docs.python.org/3/reference/lexical_analysis.html)\n",
      "    in combination with the source code in :mod:`pandas.core.computation.parsing`.\n",
      "    \n",
      "    Examples\n",
      "    --------\n",
      "    >>> df = pd.DataFrame({'A': range(1, 6),\n",
      "    ...                    'B': range(10, 0, -2),\n",
      "    ...                    'C C': range(10, 5, -1)})\n",
      "    >>> df\n",
      "       A   B  C C\n",
      "    0  1  10   10\n",
      "    1  2   8    9\n",
      "    2  3   6    8\n",
      "    3  4   4    7\n",
      "    4  5   2    6\n",
      "    >>> df.query('A > B')\n",
      "       A  B  C C\n",
      "    4  5  2    6\n",
      "    \n",
      "    The previous expression is equivalent to\n",
      "    \n",
      "    >>> df[df.A > df.B]\n",
      "       A  B  C C\n",
      "    4  5  2    6\n",
      "    \n",
      "    For columns with spaces in their name, you can use backtick quoting.\n",
      "    \n",
      "    >>> df.query('B == `C C`')\n",
      "       A   B  C C\n",
      "    0  1  10   10\n",
      "    \n",
      "    The previous expression is equivalent to\n",
      "    \n",
      "    >>> df[df.B == df['C C']]\n",
      "       A   B  C C\n",
      "    0  1  10   10\n",
      "\n"
     ]
    }
   ],
   "metadata": {}
  },
  {
   "cell_type": "code",
   "execution_count": 65,
   "source": [
    "df.query(\"negative\").assign(cool=lambda x: x[\"two\"] / x[\"three\"])"
   ],
   "outputs": [
    {
     "output_type": "execute_result",
     "data": {
      "text/html": [
       "<div>\n",
       "<style scoped>\n",
       "    .dataframe tbody tr th:only-of-type {\n",
       "        vertical-align: middle;\n",
       "    }\n",
       "\n",
       "    .dataframe tbody tr th {\n",
       "        vertical-align: top;\n",
       "    }\n",
       "\n",
       "    .dataframe thead th {\n",
       "        text-align: right;\n",
       "    }\n",
       "</style>\n",
       "<table border=\"1\" class=\"dataframe\">\n",
       "  <thead>\n",
       "    <tr style=\"text-align: right;\">\n",
       "      <th></th>\n",
       "      <th>one</th>\n",
       "      <th>negative</th>\n",
       "      <th>two</th>\n",
       "      <th>three</th>\n",
       "      <th>cool</th>\n",
       "    </tr>\n",
       "  </thead>\n",
       "  <tbody>\n",
       "    <tr>\n",
       "      <th>a</th>\n",
       "      <td>-0.732758</td>\n",
       "      <td>True</td>\n",
       "      <td>0.72716</td>\n",
       "      <td>-7.327579</td>\n",
       "      <td>-0.099236</td>\n",
       "    </tr>\n",
       "  </tbody>\n",
       "</table>\n",
       "</div>"
      ],
      "text/plain": [
       "        one  negative      two     three      cool\n",
       "a -0.732758      True  0.72716 -7.327579 -0.099236"
      ]
     },
     "metadata": {},
     "execution_count": 65
    }
   ],
   "metadata": {}
  },
  {
   "cell_type": "code",
   "execution_count": 86,
   "source": [
    "df.loc[\"b\":\"d\", \"one\":\"two\"]"
   ],
   "outputs": [
    {
     "output_type": "execute_result",
     "data": {
      "text/html": [
       "<div>\n",
       "<style scoped>\n",
       "    .dataframe tbody tr th:only-of-type {\n",
       "        vertical-align: middle;\n",
       "    }\n",
       "\n",
       "    .dataframe tbody tr th {\n",
       "        vertical-align: top;\n",
       "    }\n",
       "\n",
       "    .dataframe thead th {\n",
       "        text-align: right;\n",
       "    }\n",
       "</style>\n",
       "<table border=\"1\" class=\"dataframe\">\n",
       "  <thead>\n",
       "    <tr style=\"text-align: right;\">\n",
       "      <th></th>\n",
       "      <th>one</th>\n",
       "      <th>negative</th>\n",
       "      <th>two</th>\n",
       "    </tr>\n",
       "  </thead>\n",
       "  <tbody>\n",
       "    <tr>\n",
       "      <th>b</th>\n",
       "      <td>0.827219</td>\n",
       "      <td>False</td>\n",
       "      <td>0.638470</td>\n",
       "    </tr>\n",
       "    <tr>\n",
       "      <th>c</th>\n",
       "      <td>0.223872</td>\n",
       "      <td>False</td>\n",
       "      <td>0.028091</td>\n",
       "    </tr>\n",
       "    <tr>\n",
       "      <th>d</th>\n",
       "      <td>NaN</td>\n",
       "      <td>False</td>\n",
       "      <td>-0.972016</td>\n",
       "    </tr>\n",
       "  </tbody>\n",
       "</table>\n",
       "</div>"
      ],
      "text/plain": [
       "        one  negative       two\n",
       "b  0.827219     False  0.638470\n",
       "c  0.223872     False  0.028091\n",
       "d       NaN     False -0.972016"
      ]
     },
     "metadata": {},
     "execution_count": 86
    }
   ],
   "metadata": {}
  },
  {
   "cell_type": "code",
   "execution_count": 88,
   "source": [
    "df.T"
   ],
   "outputs": [
    {
     "output_type": "execute_result",
     "data": {
      "text/html": [
       "<div>\n",
       "<style scoped>\n",
       "    .dataframe tbody tr th:only-of-type {\n",
       "        vertical-align: middle;\n",
       "    }\n",
       "\n",
       "    .dataframe tbody tr th {\n",
       "        vertical-align: top;\n",
       "    }\n",
       "\n",
       "    .dataframe thead th {\n",
       "        text-align: right;\n",
       "    }\n",
       "</style>\n",
       "<table border=\"1\" class=\"dataframe\">\n",
       "  <thead>\n",
       "    <tr style=\"text-align: right;\">\n",
       "      <th></th>\n",
       "      <th>a</th>\n",
       "      <th>b</th>\n",
       "      <th>c</th>\n",
       "      <th>d</th>\n",
       "    </tr>\n",
       "  </thead>\n",
       "  <tbody>\n",
       "    <tr>\n",
       "      <th>one</th>\n",
       "      <td>-0.732758</td>\n",
       "      <td>0.827219</td>\n",
       "      <td>0.223872</td>\n",
       "      <td>NaN</td>\n",
       "    </tr>\n",
       "    <tr>\n",
       "      <th>negative</th>\n",
       "      <td>True</td>\n",
       "      <td>False</td>\n",
       "      <td>False</td>\n",
       "      <td>False</td>\n",
       "    </tr>\n",
       "    <tr>\n",
       "      <th>two</th>\n",
       "      <td>0.72716</td>\n",
       "      <td>0.63847</td>\n",
       "      <td>0.028091</td>\n",
       "      <td>-0.972016</td>\n",
       "    </tr>\n",
       "    <tr>\n",
       "      <th>three</th>\n",
       "      <td>-7.327579</td>\n",
       "      <td>8.272193</td>\n",
       "      <td>2.238715</td>\n",
       "      <td>NaN</td>\n",
       "    </tr>\n",
       "  </tbody>\n",
       "</table>\n",
       "</div>"
      ],
      "text/plain": [
       "                 a         b         c         d\n",
       "one      -0.732758  0.827219  0.223872       NaN\n",
       "negative      True     False     False     False\n",
       "two        0.72716   0.63847  0.028091 -0.972016\n",
       "three    -7.327579  8.272193  2.238715       NaN"
      ]
     },
     "metadata": {},
     "execution_count": 88
    }
   ],
   "metadata": {}
  },
  {
   "cell_type": "code",
   "execution_count": 89,
   "source": [
    "df.to_string()"
   ],
   "outputs": [
    {
     "output_type": "execute_result",
     "data": {
      "text/plain": [
       "'        one  negative       two     three\\na -0.732758      True  0.727160 -7.327579\\nb  0.827219     False  0.638470  8.272193\\nc  0.223872     False  0.028091  2.238715\\nd       NaN     False -0.972016       NaN'"
      ]
     },
     "metadata": {},
     "execution_count": 89
    }
   ],
   "metadata": {}
  },
  {
   "cell_type": "code",
   "execution_count": 107,
   "source": [
    "dates = pd.date_range(\"20220101\", periods=5)\n",
    "date_df = pd.DataFrame(np.random.rand(5, 3), index=dates, columns=list(\"abc\"))\n",
    "date_df"
   ],
   "outputs": [
    {
     "output_type": "execute_result",
     "data": {
      "text/html": [
       "<div>\n",
       "<style scoped>\n",
       "    .dataframe tbody tr th:only-of-type {\n",
       "        vertical-align: middle;\n",
       "    }\n",
       "\n",
       "    .dataframe tbody tr th {\n",
       "        vertical-align: top;\n",
       "    }\n",
       "\n",
       "    .dataframe thead th {\n",
       "        text-align: right;\n",
       "    }\n",
       "</style>\n",
       "<table border=\"1\" class=\"dataframe\">\n",
       "  <thead>\n",
       "    <tr style=\"text-align: right;\">\n",
       "      <th></th>\n",
       "      <th>a</th>\n",
       "      <th>b</th>\n",
       "      <th>c</th>\n",
       "    </tr>\n",
       "  </thead>\n",
       "  <tbody>\n",
       "    <tr>\n",
       "      <th>2022-01-01</th>\n",
       "      <td>0.283531</td>\n",
       "      <td>0.562453</td>\n",
       "      <td>0.470664</td>\n",
       "    </tr>\n",
       "    <tr>\n",
       "      <th>2022-01-02</th>\n",
       "      <td>0.545342</td>\n",
       "      <td>0.335055</td>\n",
       "      <td>0.234532</td>\n",
       "    </tr>\n",
       "    <tr>\n",
       "      <th>2022-01-03</th>\n",
       "      <td>0.989477</td>\n",
       "      <td>0.600014</td>\n",
       "      <td>0.370401</td>\n",
       "    </tr>\n",
       "    <tr>\n",
       "      <th>2022-01-04</th>\n",
       "      <td>0.897044</td>\n",
       "      <td>0.487149</td>\n",
       "      <td>0.336388</td>\n",
       "    </tr>\n",
       "    <tr>\n",
       "      <th>2022-01-05</th>\n",
       "      <td>0.258644</td>\n",
       "      <td>0.322419</td>\n",
       "      <td>0.197952</td>\n",
       "    </tr>\n",
       "  </tbody>\n",
       "</table>\n",
       "</div>"
      ],
      "text/plain": [
       "                   a         b         c\n",
       "2022-01-01  0.283531  0.562453  0.470664\n",
       "2022-01-02  0.545342  0.335055  0.234532\n",
       "2022-01-03  0.989477  0.600014  0.370401\n",
       "2022-01-04  0.897044  0.487149  0.336388\n",
       "2022-01-05  0.258644  0.322419  0.197952"
      ]
     },
     "metadata": {},
     "execution_count": 107
    }
   ],
   "metadata": {}
  },
  {
   "cell_type": "code",
   "execution_count": 108,
   "source": [
    "date_df.info()"
   ],
   "outputs": [
    {
     "output_type": "stream",
     "name": "stdout",
     "text": [
      "<class 'pandas.core.frame.DataFrame'>\n",
      "DatetimeIndex: 5 entries, 2022-01-01 to 2022-01-05\n",
      "Freq: D\n",
      "Data columns (total 3 columns):\n",
      " #   Column  Non-Null Count  Dtype  \n",
      "---  ------  --------------  -----  \n",
      " 0   a       5 non-null      float64\n",
      " 1   b       5 non-null      float64\n",
      " 2   c       5 non-null      float64\n",
      "dtypes: float64(3)\n",
      "memory usage: 160.0 bytes\n"
     ]
    }
   ],
   "metadata": {}
  },
  {
   "cell_type": "code",
   "execution_count": 109,
   "source": [
    "date_df.tail(2)"
   ],
   "outputs": [
    {
     "output_type": "execute_result",
     "data": {
      "text/html": [
       "<div>\n",
       "<style scoped>\n",
       "    .dataframe tbody tr th:only-of-type {\n",
       "        vertical-align: middle;\n",
       "    }\n",
       "\n",
       "    .dataframe tbody tr th {\n",
       "        vertical-align: top;\n",
       "    }\n",
       "\n",
       "    .dataframe thead th {\n",
       "        text-align: right;\n",
       "    }\n",
       "</style>\n",
       "<table border=\"1\" class=\"dataframe\">\n",
       "  <thead>\n",
       "    <tr style=\"text-align: right;\">\n",
       "      <th></th>\n",
       "      <th>a</th>\n",
       "      <th>b</th>\n",
       "      <th>c</th>\n",
       "    </tr>\n",
       "  </thead>\n",
       "  <tbody>\n",
       "    <tr>\n",
       "      <th>2022-01-04</th>\n",
       "      <td>0.897044</td>\n",
       "      <td>0.487149</td>\n",
       "      <td>0.336388</td>\n",
       "    </tr>\n",
       "    <tr>\n",
       "      <th>2022-01-05</th>\n",
       "      <td>0.258644</td>\n",
       "      <td>0.322419</td>\n",
       "      <td>0.197952</td>\n",
       "    </tr>\n",
       "  </tbody>\n",
       "</table>\n",
       "</div>"
      ],
      "text/plain": [
       "                   a         b         c\n",
       "2022-01-04  0.897044  0.487149  0.336388\n",
       "2022-01-05  0.258644  0.322419  0.197952"
      ]
     },
     "metadata": {},
     "execution_count": 109
    }
   ],
   "metadata": {}
  },
  {
   "cell_type": "code",
   "execution_count": 110,
   "source": [
    "date_df.sort_index(axis=1, ascending=False)"
   ],
   "outputs": [
    {
     "output_type": "execute_result",
     "data": {
      "text/html": [
       "<div>\n",
       "<style scoped>\n",
       "    .dataframe tbody tr th:only-of-type {\n",
       "        vertical-align: middle;\n",
       "    }\n",
       "\n",
       "    .dataframe tbody tr th {\n",
       "        vertical-align: top;\n",
       "    }\n",
       "\n",
       "    .dataframe thead th {\n",
       "        text-align: right;\n",
       "    }\n",
       "</style>\n",
       "<table border=\"1\" class=\"dataframe\">\n",
       "  <thead>\n",
       "    <tr style=\"text-align: right;\">\n",
       "      <th></th>\n",
       "      <th>c</th>\n",
       "      <th>b</th>\n",
       "      <th>a</th>\n",
       "    </tr>\n",
       "  </thead>\n",
       "  <tbody>\n",
       "    <tr>\n",
       "      <th>2022-01-01</th>\n",
       "      <td>0.470664</td>\n",
       "      <td>0.562453</td>\n",
       "      <td>0.283531</td>\n",
       "    </tr>\n",
       "    <tr>\n",
       "      <th>2022-01-02</th>\n",
       "      <td>0.234532</td>\n",
       "      <td>0.335055</td>\n",
       "      <td>0.545342</td>\n",
       "    </tr>\n",
       "    <tr>\n",
       "      <th>2022-01-03</th>\n",
       "      <td>0.370401</td>\n",
       "      <td>0.600014</td>\n",
       "      <td>0.989477</td>\n",
       "    </tr>\n",
       "    <tr>\n",
       "      <th>2022-01-04</th>\n",
       "      <td>0.336388</td>\n",
       "      <td>0.487149</td>\n",
       "      <td>0.897044</td>\n",
       "    </tr>\n",
       "    <tr>\n",
       "      <th>2022-01-05</th>\n",
       "      <td>0.197952</td>\n",
       "      <td>0.322419</td>\n",
       "      <td>0.258644</td>\n",
       "    </tr>\n",
       "  </tbody>\n",
       "</table>\n",
       "</div>"
      ],
      "text/plain": [
       "                   c         b         a\n",
       "2022-01-01  0.470664  0.562453  0.283531\n",
       "2022-01-02  0.234532  0.335055  0.545342\n",
       "2022-01-03  0.370401  0.600014  0.989477\n",
       "2022-01-04  0.336388  0.487149  0.897044\n",
       "2022-01-05  0.197952  0.322419  0.258644"
      ]
     },
     "metadata": {},
     "execution_count": 110
    }
   ],
   "metadata": {}
  },
  {
   "cell_type": "code",
   "execution_count": 114,
   "source": [
    "date_df[date_df[\"c\"] > 0.25]"
   ],
   "outputs": [
    {
     "output_type": "execute_result",
     "data": {
      "text/html": [
       "<div>\n",
       "<style scoped>\n",
       "    .dataframe tbody tr th:only-of-type {\n",
       "        vertical-align: middle;\n",
       "    }\n",
       "\n",
       "    .dataframe tbody tr th {\n",
       "        vertical-align: top;\n",
       "    }\n",
       "\n",
       "    .dataframe thead th {\n",
       "        text-align: right;\n",
       "    }\n",
       "</style>\n",
       "<table border=\"1\" class=\"dataframe\">\n",
       "  <thead>\n",
       "    <tr style=\"text-align: right;\">\n",
       "      <th></th>\n",
       "      <th>a</th>\n",
       "      <th>b</th>\n",
       "      <th>c</th>\n",
       "    </tr>\n",
       "  </thead>\n",
       "  <tbody>\n",
       "    <tr>\n",
       "      <th>2022-01-01</th>\n",
       "      <td>0.283531</td>\n",
       "      <td>0.562453</td>\n",
       "      <td>0.470664</td>\n",
       "    </tr>\n",
       "    <tr>\n",
       "      <th>2022-01-03</th>\n",
       "      <td>0.989477</td>\n",
       "      <td>0.600014</td>\n",
       "      <td>0.370401</td>\n",
       "    </tr>\n",
       "    <tr>\n",
       "      <th>2022-01-04</th>\n",
       "      <td>0.897044</td>\n",
       "      <td>0.487149</td>\n",
       "      <td>0.336388</td>\n",
       "    </tr>\n",
       "  </tbody>\n",
       "</table>\n",
       "</div>"
      ],
      "text/plain": [
       "                   a         b         c\n",
       "2022-01-01  0.283531  0.562453  0.470664\n",
       "2022-01-03  0.989477  0.600014  0.370401\n",
       "2022-01-04  0.897044  0.487149  0.336388"
      ]
     },
     "metadata": {},
     "execution_count": 114
    }
   ],
   "metadata": {}
  },
  {
   "cell_type": "code",
   "execution_count": 125,
   "source": [
    "# dropna, fillna, isna\n",
    "# df.dropna(axis=0)\n",
    "# df.fillna(0.5)\n",
    "df.isna()"
   ],
   "outputs": [
    {
     "output_type": "execute_result",
     "data": {
      "text/html": [
       "<div>\n",
       "<style scoped>\n",
       "    .dataframe tbody tr th:only-of-type {\n",
       "        vertical-align: middle;\n",
       "    }\n",
       "\n",
       "    .dataframe tbody tr th {\n",
       "        vertical-align: top;\n",
       "    }\n",
       "\n",
       "    .dataframe thead th {\n",
       "        text-align: right;\n",
       "    }\n",
       "</style>\n",
       "<table border=\"1\" class=\"dataframe\">\n",
       "  <thead>\n",
       "    <tr style=\"text-align: right;\">\n",
       "      <th></th>\n",
       "      <th>one</th>\n",
       "      <th>negative</th>\n",
       "      <th>two</th>\n",
       "      <th>three</th>\n",
       "    </tr>\n",
       "  </thead>\n",
       "  <tbody>\n",
       "    <tr>\n",
       "      <th>a</th>\n",
       "      <td>False</td>\n",
       "      <td>False</td>\n",
       "      <td>False</td>\n",
       "      <td>False</td>\n",
       "    </tr>\n",
       "    <tr>\n",
       "      <th>b</th>\n",
       "      <td>False</td>\n",
       "      <td>False</td>\n",
       "      <td>False</td>\n",
       "      <td>False</td>\n",
       "    </tr>\n",
       "    <tr>\n",
       "      <th>c</th>\n",
       "      <td>False</td>\n",
       "      <td>False</td>\n",
       "      <td>False</td>\n",
       "      <td>False</td>\n",
       "    </tr>\n",
       "    <tr>\n",
       "      <th>d</th>\n",
       "      <td>True</td>\n",
       "      <td>False</td>\n",
       "      <td>False</td>\n",
       "      <td>True</td>\n",
       "    </tr>\n",
       "  </tbody>\n",
       "</table>\n",
       "</div>"
      ],
      "text/plain": [
       "     one  negative    two  three\n",
       "a  False     False  False  False\n",
       "b  False     False  False  False\n",
       "c  False     False  False  False\n",
       "d   True     False  False   True"
      ]
     },
     "metadata": {},
     "execution_count": 125
    }
   ],
   "metadata": {}
  },
  {
   "cell_type": "code",
   "execution_count": 130,
   "source": [
    "# apply\n",
    "date_df.apply(np.sum)"
   ],
   "outputs": [
    {
     "output_type": "execute_result",
     "data": {
      "text/plain": [
       "a    2.974038\n",
       "b    2.307090\n",
       "c    1.609936\n",
       "dtype: float64"
      ]
     },
     "metadata": {},
     "execution_count": 130
    }
   ],
   "metadata": {}
  },
  {
   "cell_type": "code",
   "execution_count": 132,
   "source": [
    "date_df.apply(lambda x: x.max() - x.min())"
   ],
   "outputs": [
    {
     "output_type": "execute_result",
     "data": {
      "text/plain": [
       "a    0.730833\n",
       "b    0.277595\n",
       "c    0.272712\n",
       "dtype: float64"
      ]
     },
     "metadata": {},
     "execution_count": 132
    }
   ],
   "metadata": {}
  }
 ],
 "metadata": {
  "orig_nbformat": 4,
  "language_info": {
   "name": "python",
   "version": "3.9.7",
   "mimetype": "text/x-python",
   "codemirror_mode": {
    "name": "ipython",
    "version": 3
   },
   "pygments_lexer": "ipython3",
   "nbconvert_exporter": "python",
   "file_extension": ".py"
  },
  "kernelspec": {
   "name": "python3",
   "display_name": "Python 3.9.7 64-bit"
  },
  "interpreter": {
   "hash": "916dbcbb3f70747c44a77c7bcd40155683ae19c65e1c03b4aa3499c5328201f1"
  }
 },
 "nbformat": 4,
 "nbformat_minor": 2
}